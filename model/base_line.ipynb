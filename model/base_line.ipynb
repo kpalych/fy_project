{
 "cells": [
  {
   "attachments": {},
   "cell_type": "markdown",
   "metadata": {},
   "source": [
    "# Итоговый проект первого года обучения <br /> (курс \"Профессия Data Science\")\n",
    "## Тема: Агентство недвижимости\n",
    "\n",
    "**Что необходимо сделать:** разработать сервис для предсказания стоимости домов на основе истории предложений."
   ]
  },
  {
   "attachments": {},
   "cell_type": "markdown",
   "metadata": {},
   "source": [
    "## Base Line\n",
    "#### Первичная очистка и кодорование данных, получение базовой модели, относительно которолй будет оцениваться качество улучшения предсказаний"
   ]
  },
  {
   "cell_type": "code",
   "execution_count": 2,
   "metadata": {},
   "outputs": [],
   "source": [
    "import numpy as np\n",
    "import pandas as pd\n",
    "import json\n",
    "import pickle\n",
    "import category_encoders as ce\n",
    "from sklearn.model_selection import train_test_split\n",
    "from sklearn.metrics import mean_absolute_percentage_error\n",
    "from sklearn.metrics import mean_squared_error\n",
    "from sklearn.linear_model import LinearRegression\n",
    "from sklearn.ensemble import RandomForestRegressor\n",
    "from sklearn.ensemble import AdaBoostRegressor\n",
    "from sklearn.tree import DecisionTreeRegressor\n",
    "from sklearn.ensemble import GradientBoostingRegressor\n",
    "from sklearn.model_selection import GridSearchCV\n",
    "from xgboost import XGBRegressor\n",
    "from catboost import CatBoostRegressor\n",
    "\n",
    "from sklearn.decomposition import PCA\n",
    "from sklearn.preprocessing import MinMaxScaler\n",
    "from sklearn.preprocessing import StandardScaler"
   ]
  },
  {
   "cell_type": "code",
   "execution_count": 3,
   "metadata": {},
   "outputs": [],
   "source": [
    "import matplotlib.pyplot as plt\n",
    "import seaborn as sns\n",
    "%matplotlib inline\n",
    "\n",
    "plt.style.use('default')"
   ]
  },
  {
   "cell_type": "code",
   "execution_count": 4,
   "metadata": {},
   "outputs": [],
   "source": [
    "import sys, os\n",
    "sys.path.append(os.path.join(os.path.abspath(''), '..', 'shared_libs'))\n",
    "import data_transform"
   ]
  },
  {
   "attachments": {},
   "cell_type": "markdown",
   "metadata": {},
   "source": [
    "Загрузка предварительно очищенного от выбросов целевого показателя осовной набор данных."
   ]
  },
  {
   "cell_type": "code",
   "execution_count": 5,
   "metadata": {},
   "outputs": [
    {
     "data": {
      "text/html": [
       "<div>\n",
       "<style scoped>\n",
       "    .dataframe tbody tr th:only-of-type {\n",
       "        vertical-align: middle;\n",
       "    }\n",
       "\n",
       "    .dataframe tbody tr th {\n",
       "        vertical-align: top;\n",
       "    }\n",
       "\n",
       "    .dataframe thead th {\n",
       "        text-align: right;\n",
       "    }\n",
       "</style>\n",
       "<table border=\"1\" class=\"dataframe\">\n",
       "  <thead>\n",
       "    <tr style=\"text-align: right;\">\n",
       "      <th></th>\n",
       "      <th>status</th>\n",
       "      <th>private pool</th>\n",
       "      <th>propertyType</th>\n",
       "      <th>street</th>\n",
       "      <th>baths</th>\n",
       "      <th>homeFacts</th>\n",
       "      <th>fireplace</th>\n",
       "      <th>city</th>\n",
       "      <th>schools</th>\n",
       "      <th>sqft</th>\n",
       "      <th>zipcode</th>\n",
       "      <th>beds</th>\n",
       "      <th>state</th>\n",
       "      <th>stories</th>\n",
       "      <th>mls-id</th>\n",
       "      <th>PrivatePool</th>\n",
       "      <th>MlsId</th>\n",
       "      <th>target</th>\n",
       "    </tr>\n",
       "  </thead>\n",
       "  <tbody>\n",
       "    <tr>\n",
       "      <th>0</th>\n",
       "      <td>for sale</td>\n",
       "      <td>NaN</td>\n",
       "      <td>multi-family</td>\n",
       "      <td>803 Passmore St</td>\n",
       "      <td>2 Baths</td>\n",
       "      <td>{'atAGlanceFacts': [{'factValue': '1950', 'fac...</td>\n",
       "      <td>yes</td>\n",
       "      <td>Philadelphia</td>\n",
       "      <td>[{'rating': ['3/10', '2/10', '3/10'], 'data': ...</td>\n",
       "      <td>1,350 sqft</td>\n",
       "      <td>19111</td>\n",
       "      <td>3 Beds</td>\n",
       "      <td>PA</td>\n",
       "      <td>2.0</td>\n",
       "      <td>NaN</td>\n",
       "      <td>NaN</td>\n",
       "      <td>PAPH853202</td>\n",
       "      <td>195000.0</td>\n",
       "    </tr>\n",
       "    <tr>\n",
       "      <th>1</th>\n",
       "      <td>for sale</td>\n",
       "      <td>NaN</td>\n",
       "      <td>lot/land</td>\n",
       "      <td>3609 Summit Ave</td>\n",
       "      <td>NaN</td>\n",
       "      <td>{'atAGlanceFacts': [{'factValue': '', 'factLab...</td>\n",
       "      <td>NaN</td>\n",
       "      <td>Greensboro</td>\n",
       "      <td>[{'rating': ['5/10', '5/10', '4/10'], 'data': ...</td>\n",
       "      <td>NaN</td>\n",
       "      <td>27405</td>\n",
       "      <td>NaN</td>\n",
       "      <td>NC</td>\n",
       "      <td>NaN</td>\n",
       "      <td>NaN</td>\n",
       "      <td>NaN</td>\n",
       "      <td>930640</td>\n",
       "      <td>199000.0</td>\n",
       "    </tr>\n",
       "    <tr>\n",
       "      <th>2</th>\n",
       "      <td>Active</td>\n",
       "      <td>NaN</td>\n",
       "      <td>Land</td>\n",
       "      <td>4011 Valley Vista Dr</td>\n",
       "      <td>NaN</td>\n",
       "      <td>{'atAGlanceFacts': [{'factValue': '', 'factLab...</td>\n",
       "      <td>NaN</td>\n",
       "      <td>Lowell</td>\n",
       "      <td>[{'rating': ['7', '6'], 'data': {'Distance': [...</td>\n",
       "      <td>0</td>\n",
       "      <td>49331</td>\n",
       "      <td>NaN</td>\n",
       "      <td>MI</td>\n",
       "      <td>NaN</td>\n",
       "      <td>NaN</td>\n",
       "      <td>NaN</td>\n",
       "      <td>19058608</td>\n",
       "      <td>189900.0</td>\n",
       "    </tr>\n",
       "    <tr>\n",
       "      <th>3</th>\n",
       "      <td>For sale</td>\n",
       "      <td>NaN</td>\n",
       "      <td>Single Family</td>\n",
       "      <td>118 S 17th St</td>\n",
       "      <td>Bathrooms: 2</td>\n",
       "      <td>{'atAGlanceFacts': [{'factValue': '1909', 'fac...</td>\n",
       "      <td>NaN</td>\n",
       "      <td>Allentown</td>\n",
       "      <td>[{'rating': ['2/10', '2/10', '2/10'], 'data': ...</td>\n",
       "      <td>Total interior livable area: 1,617 sqft</td>\n",
       "      <td>18104</td>\n",
       "      <td>3 bd</td>\n",
       "      <td>PA</td>\n",
       "      <td>2.0</td>\n",
       "      <td>628531</td>\n",
       "      <td>NaN</td>\n",
       "      <td>NaN</td>\n",
       "      <td>189000.0</td>\n",
       "    </tr>\n",
       "    <tr>\n",
       "      <th>4</th>\n",
       "      <td>for sale</td>\n",
       "      <td>NaN</td>\n",
       "      <td>single-family home</td>\n",
       "      <td>6820 Quincy St</td>\n",
       "      <td>4 Baths</td>\n",
       "      <td>{'atAGlanceFacts': [{'factValue': '1925', 'fac...</td>\n",
       "      <td>yes</td>\n",
       "      <td>Philadelphia</td>\n",
       "      <td>[{'rating': ['3/10', '1/10'], 'data': {'Distan...</td>\n",
       "      <td>5,013 sqft</td>\n",
       "      <td>19119</td>\n",
       "      <td>6 Beds</td>\n",
       "      <td>PA</td>\n",
       "      <td>3.0</td>\n",
       "      <td>NaN</td>\n",
       "      <td>NaN</td>\n",
       "      <td>PAPH851112</td>\n",
       "      <td>579000.0</td>\n",
       "    </tr>\n",
       "  </tbody>\n",
       "</table>\n",
       "</div>"
      ],
      "text/plain": [
       "     status private pool        propertyType                street  \\\n",
       "0  for sale          NaN        multi-family       803 Passmore St   \n",
       "1  for sale          NaN            lot/land       3609 Summit Ave   \n",
       "2    Active          NaN                Land  4011 Valley Vista Dr   \n",
       "3  For sale          NaN       Single Family         118 S 17th St   \n",
       "4  for sale          NaN  single-family home        6820 Quincy St   \n",
       "\n",
       "          baths                                          homeFacts fireplace  \\\n",
       "0       2 Baths  {'atAGlanceFacts': [{'factValue': '1950', 'fac...       yes   \n",
       "1           NaN  {'atAGlanceFacts': [{'factValue': '', 'factLab...       NaN   \n",
       "2           NaN  {'atAGlanceFacts': [{'factValue': '', 'factLab...       NaN   \n",
       "3  Bathrooms: 2  {'atAGlanceFacts': [{'factValue': '1909', 'fac...       NaN   \n",
       "4       4 Baths  {'atAGlanceFacts': [{'factValue': '1925', 'fac...       yes   \n",
       "\n",
       "           city                                            schools  \\\n",
       "0  Philadelphia  [{'rating': ['3/10', '2/10', '3/10'], 'data': ...   \n",
       "1    Greensboro  [{'rating': ['5/10', '5/10', '4/10'], 'data': ...   \n",
       "2        Lowell  [{'rating': ['7', '6'], 'data': {'Distance': [...   \n",
       "3     Allentown  [{'rating': ['2/10', '2/10', '2/10'], 'data': ...   \n",
       "4  Philadelphia  [{'rating': ['3/10', '1/10'], 'data': {'Distan...   \n",
       "\n",
       "                                      sqft zipcode    beds state stories  \\\n",
       "0                               1,350 sqft   19111  3 Beds    PA     2.0   \n",
       "1                                      NaN   27405     NaN    NC     NaN   \n",
       "2                                        0   49331     NaN    MI     NaN   \n",
       "3  Total interior livable area: 1,617 sqft   18104    3 bd    PA     2.0   \n",
       "4                               5,013 sqft   19119  6 Beds    PA     3.0   \n",
       "\n",
       "   mls-id PrivatePool       MlsId    target  \n",
       "0     NaN         NaN  PAPH853202  195000.0  \n",
       "1     NaN         NaN      930640  199000.0  \n",
       "2     NaN         NaN    19058608  189900.0  \n",
       "3  628531         NaN         NaN  189000.0  \n",
       "4     NaN         NaN  PAPH851112  579000.0  "
      ]
     },
     "execution_count": 5,
     "metadata": {},
     "output_type": "execute_result"
    }
   ],
   "source": [
    "df = pd.read_csv('data/data_target_cleared.csv')\n",
    "df.head()"
   ]
  },
  {
   "attachments": {},
   "cell_type": "markdown",
   "metadata": {},
   "source": [
    "Проверка на наличие пропусков в данных (в процентах)"
   ]
  },
  {
   "cell_type": "code",
   "execution_count": 6,
   "metadata": {},
   "outputs": [
    {
     "data": {
      "text/plain": [
       "status          10.7686\n",
       "private pool    98.8581\n",
       "propertyType     8.8121\n",
       "street           0.0006\n",
       "baths           26.4719\n",
       "homeFacts        0.0000\n",
       "fireplace       71.9139\n",
       "city             0.0068\n",
       "schools          0.0000\n",
       "sqft             9.2487\n",
       "zipcode          0.0000\n",
       "beds            22.3483\n",
       "state            0.0000\n",
       "stories         38.1452\n",
       "mls-id          93.1189\n",
       "PrivatePool     89.2497\n",
       "MlsId           17.5125\n",
       "target           0.0000\n",
       "dtype: float64"
      ]
     },
     "execution_count": 6,
     "metadata": {},
     "output_type": "execute_result"
    }
   ],
   "source": [
    "np.round(df.isna().sum() / df.shape[0] * 100, 4)"
   ]
  },
  {
   "cell_type": "code",
   "execution_count": 7,
   "metadata": {},
   "outputs": [
    {
     "data": {
      "text/plain": [
       "for sale                     41.8060\n",
       "Active                       27.5169\n",
       "For sale                     11.9042\n",
       "New construction              1.5092\n",
       "foreclosure                   1.2923\n",
       "Pending                       1.2241\n",
       "Pre-foreclosure               0.5560\n",
       "P                             0.4155\n",
       "Pre-foreclosure / auction     0.3560\n",
       "Under Contract Show           0.3264\n",
       " / auction                    0.2225\n",
       "Under Contract   Showing      0.2211\n",
       "Active Under Contract         0.2005\n",
       "Under Contract                0.1941\n",
       "New                           0.1918\n",
       "Contingent                    0.1586\n",
       "Price Change                  0.1569\n",
       "Auction                       0.1352\n",
       "A Active                      0.1107\n",
       "Foreclosure                   0.0820\n",
       "Name: status, dtype: float64"
      ]
     },
     "execution_count": 7,
     "metadata": {},
     "output_type": "execute_result"
    }
   ],
   "source": [
    "np.round(df['status'].value_counts() / df.shape[0] * 100, 4)[:20]"
   ]
  },
  {
   "attachments": {},
   "cell_type": "markdown",
   "metadata": {},
   "source": [
    "После анализа наиболее часто встречающихся значений в поле *status*, становится понятно, что поле не информативно (около 79% всех значений - **For sale** или **Active**, что по смыслу одно и тоже)\n",
    "\n",
    "Удаление неинформативных признаков и признаков, в которых слишком большое число пропусков"
   ]
  },
  {
   "cell_type": "code",
   "execution_count": 8,
   "metadata": {},
   "outputs": [
    {
     "data": {
      "text/html": [
       "<div>\n",
       "<style scoped>\n",
       "    .dataframe tbody tr th:only-of-type {\n",
       "        vertical-align: middle;\n",
       "    }\n",
       "\n",
       "    .dataframe tbody tr th {\n",
       "        vertical-align: top;\n",
       "    }\n",
       "\n",
       "    .dataframe thead th {\n",
       "        text-align: right;\n",
       "    }\n",
       "</style>\n",
       "<table border=\"1\" class=\"dataframe\">\n",
       "  <thead>\n",
       "    <tr style=\"text-align: right;\">\n",
       "      <th></th>\n",
       "      <th>propertyType</th>\n",
       "      <th>street</th>\n",
       "      <th>baths</th>\n",
       "      <th>homeFacts</th>\n",
       "      <th>city</th>\n",
       "      <th>schools</th>\n",
       "      <th>sqft</th>\n",
       "      <th>zipcode</th>\n",
       "      <th>beds</th>\n",
       "      <th>state</th>\n",
       "      <th>stories</th>\n",
       "      <th>MlsId</th>\n",
       "      <th>target</th>\n",
       "    </tr>\n",
       "  </thead>\n",
       "  <tbody>\n",
       "    <tr>\n",
       "      <th>0</th>\n",
       "      <td>multi-family</td>\n",
       "      <td>803 Passmore St</td>\n",
       "      <td>2 Baths</td>\n",
       "      <td>{'atAGlanceFacts': [{'factValue': '1950', 'fac...</td>\n",
       "      <td>Philadelphia</td>\n",
       "      <td>[{'rating': ['3/10', '2/10', '3/10'], 'data': ...</td>\n",
       "      <td>1,350 sqft</td>\n",
       "      <td>19111</td>\n",
       "      <td>3 Beds</td>\n",
       "      <td>PA</td>\n",
       "      <td>2.0</td>\n",
       "      <td>PAPH853202</td>\n",
       "      <td>195000.0</td>\n",
       "    </tr>\n",
       "    <tr>\n",
       "      <th>1</th>\n",
       "      <td>lot/land</td>\n",
       "      <td>3609 Summit Ave</td>\n",
       "      <td>NaN</td>\n",
       "      <td>{'atAGlanceFacts': [{'factValue': '', 'factLab...</td>\n",
       "      <td>Greensboro</td>\n",
       "      <td>[{'rating': ['5/10', '5/10', '4/10'], 'data': ...</td>\n",
       "      <td>NaN</td>\n",
       "      <td>27405</td>\n",
       "      <td>NaN</td>\n",
       "      <td>NC</td>\n",
       "      <td>NaN</td>\n",
       "      <td>930640</td>\n",
       "      <td>199000.0</td>\n",
       "    </tr>\n",
       "    <tr>\n",
       "      <th>2</th>\n",
       "      <td>Land</td>\n",
       "      <td>4011 Valley Vista Dr</td>\n",
       "      <td>NaN</td>\n",
       "      <td>{'atAGlanceFacts': [{'factValue': '', 'factLab...</td>\n",
       "      <td>Lowell</td>\n",
       "      <td>[{'rating': ['7', '6'], 'data': {'Distance': [...</td>\n",
       "      <td>0</td>\n",
       "      <td>49331</td>\n",
       "      <td>NaN</td>\n",
       "      <td>MI</td>\n",
       "      <td>NaN</td>\n",
       "      <td>19058608</td>\n",
       "      <td>189900.0</td>\n",
       "    </tr>\n",
       "    <tr>\n",
       "      <th>3</th>\n",
       "      <td>Single Family</td>\n",
       "      <td>118 S 17th St</td>\n",
       "      <td>Bathrooms: 2</td>\n",
       "      <td>{'atAGlanceFacts': [{'factValue': '1909', 'fac...</td>\n",
       "      <td>Allentown</td>\n",
       "      <td>[{'rating': ['2/10', '2/10', '2/10'], 'data': ...</td>\n",
       "      <td>Total interior livable area: 1,617 sqft</td>\n",
       "      <td>18104</td>\n",
       "      <td>3 bd</td>\n",
       "      <td>PA</td>\n",
       "      <td>2.0</td>\n",
       "      <td>NaN</td>\n",
       "      <td>189000.0</td>\n",
       "    </tr>\n",
       "    <tr>\n",
       "      <th>4</th>\n",
       "      <td>single-family home</td>\n",
       "      <td>6820 Quincy St</td>\n",
       "      <td>4 Baths</td>\n",
       "      <td>{'atAGlanceFacts': [{'factValue': '1925', 'fac...</td>\n",
       "      <td>Philadelphia</td>\n",
       "      <td>[{'rating': ['3/10', '1/10'], 'data': {'Distan...</td>\n",
       "      <td>5,013 sqft</td>\n",
       "      <td>19119</td>\n",
       "      <td>6 Beds</td>\n",
       "      <td>PA</td>\n",
       "      <td>3.0</td>\n",
       "      <td>PAPH851112</td>\n",
       "      <td>579000.0</td>\n",
       "    </tr>\n",
       "  </tbody>\n",
       "</table>\n",
       "</div>"
      ],
      "text/plain": [
       "         propertyType                street         baths  \\\n",
       "0        multi-family       803 Passmore St       2 Baths   \n",
       "1            lot/land       3609 Summit Ave           NaN   \n",
       "2                Land  4011 Valley Vista Dr           NaN   \n",
       "3       Single Family         118 S 17th St  Bathrooms: 2   \n",
       "4  single-family home        6820 Quincy St       4 Baths   \n",
       "\n",
       "                                           homeFacts          city  \\\n",
       "0  {'atAGlanceFacts': [{'factValue': '1950', 'fac...  Philadelphia   \n",
       "1  {'atAGlanceFacts': [{'factValue': '', 'factLab...    Greensboro   \n",
       "2  {'atAGlanceFacts': [{'factValue': '', 'factLab...        Lowell   \n",
       "3  {'atAGlanceFacts': [{'factValue': '1909', 'fac...     Allentown   \n",
       "4  {'atAGlanceFacts': [{'factValue': '1925', 'fac...  Philadelphia   \n",
       "\n",
       "                                             schools  \\\n",
       "0  [{'rating': ['3/10', '2/10', '3/10'], 'data': ...   \n",
       "1  [{'rating': ['5/10', '5/10', '4/10'], 'data': ...   \n",
       "2  [{'rating': ['7', '6'], 'data': {'Distance': [...   \n",
       "3  [{'rating': ['2/10', '2/10', '2/10'], 'data': ...   \n",
       "4  [{'rating': ['3/10', '1/10'], 'data': {'Distan...   \n",
       "\n",
       "                                      sqft zipcode    beds state stories  \\\n",
       "0                               1,350 sqft   19111  3 Beds    PA     2.0   \n",
       "1                                      NaN   27405     NaN    NC     NaN   \n",
       "2                                        0   49331     NaN    MI     NaN   \n",
       "3  Total interior livable area: 1,617 sqft   18104    3 bd    PA     2.0   \n",
       "4                               5,013 sqft   19119  6 Beds    PA     3.0   \n",
       "\n",
       "        MlsId    target  \n",
       "0  PAPH853202  195000.0  \n",
       "1      930640  199000.0  \n",
       "2    19058608  189900.0  \n",
       "3         NaN  189000.0  \n",
       "4  PAPH851112  579000.0  "
      ]
     },
     "execution_count": 8,
     "metadata": {},
     "output_type": "execute_result"
    }
   ],
   "source": [
    "df = data_transform.drop_not_informative_columns(df, ['status', 'private pool', 'fireplace', 'mls-id', 'PrivatePool'])\n",
    "df.head()"
   ]
  },
  {
   "attachments": {},
   "cell_type": "markdown",
   "metadata": {},
   "source": [
    "Количество пропусков в данных среди оставшихся признаков (в процентах)"
   ]
  },
  {
   "cell_type": "code",
   "execution_count": 9,
   "metadata": {},
   "outputs": [
    {
     "data": {
      "text/plain": [
       "propertyType     8.8121\n",
       "street           0.0006\n",
       "baths           26.4719\n",
       "homeFacts        0.0000\n",
       "city             0.0068\n",
       "schools          0.0000\n",
       "sqft             9.2487\n",
       "zipcode          0.0000\n",
       "beds            22.3483\n",
       "state            0.0000\n",
       "stories         38.1452\n",
       "MlsId           17.5125\n",
       "target           0.0000\n",
       "dtype: float64"
      ]
     },
     "execution_count": 9,
     "metadata": {},
     "output_type": "execute_result"
    }
   ],
   "source": [
    "np.round(df.isna().sum() / df.shape[0] * 100, 4)"
   ]
  },
  {
   "cell_type": "code",
   "execution_count": 10,
   "metadata": {},
   "outputs": [
    {
     "data": {
      "text/plain": [
       "{'Cooling',\n",
       " 'Heating',\n",
       " 'Parking',\n",
       " 'Price/sqft',\n",
       " 'Remodeled year',\n",
       " 'Year built',\n",
       " 'lotsize'}"
      ]
     },
     "execution_count": 10,
     "metadata": {},
     "output_type": "execute_result"
    }
   ],
   "source": [
    "all_facts_labels = {}\n",
    "print_count = 0\n",
    "\n",
    "def collect_facts_labels(value):\n",
    "    global all_facts_labels\n",
    "    global print_count\n",
    "    \n",
    "    try:\n",
    "        src_value = value\n",
    "        value = data_transform.convert_to_json_str(value)\n",
    "        facts = json.loads(value)['atAGlanceFacts']\n",
    "        for fact in facts:\n",
    "            all_facts_labels[fact['factLabel']] = 1\n",
    "    except:\n",
    "        print_count += 1\n",
    "        if print_count <= 25:\n",
    "            print(src_value)\n",
    "  \n",
    "df['homeFacts'].apply(collect_facts_labels)\n",
    "\n",
    "set(all_facts_labels)"
   ]
  },
  {
   "attachments": {},
   "cell_type": "markdown",
   "metadata": {},
   "source": [
    "Декодирование и формирование отдельных признаков из поля *homeFacts*\n",
    "\n",
    "В результате получаем следующие признаки:\n",
    "* *fact_year_built* - год постройки\n",
    "* *fact_remodeled_year* - год реконструкции\n",
    "* *fact_cooling* - данные по системе вентиляции\n",
    "* *fact_heating* - данные по системе отопления\n",
    "* *fact_parking* - данные о наличии парковки"
   ]
  },
  {
   "cell_type": "code",
   "execution_count": 11,
   "metadata": {},
   "outputs": [
    {
     "data": {
      "text/html": [
       "<div>\n",
       "<style scoped>\n",
       "    .dataframe tbody tr th:only-of-type {\n",
       "        vertical-align: middle;\n",
       "    }\n",
       "\n",
       "    .dataframe tbody tr th {\n",
       "        vertical-align: top;\n",
       "    }\n",
       "\n",
       "    .dataframe thead th {\n",
       "        text-align: right;\n",
       "    }\n",
       "</style>\n",
       "<table border=\"1\" class=\"dataframe\">\n",
       "  <thead>\n",
       "    <tr style=\"text-align: right;\">\n",
       "      <th></th>\n",
       "      <th>propertyType</th>\n",
       "      <th>street</th>\n",
       "      <th>baths</th>\n",
       "      <th>city</th>\n",
       "      <th>schools</th>\n",
       "      <th>sqft</th>\n",
       "      <th>zipcode</th>\n",
       "      <th>beds</th>\n",
       "      <th>state</th>\n",
       "      <th>stories</th>\n",
       "      <th>MlsId</th>\n",
       "      <th>target</th>\n",
       "      <th>fact_year_built</th>\n",
       "      <th>fact_remodeled_year</th>\n",
       "      <th>fact_cooling</th>\n",
       "      <th>fact_heating</th>\n",
       "      <th>fact_parking</th>\n",
       "    </tr>\n",
       "  </thead>\n",
       "  <tbody>\n",
       "    <tr>\n",
       "      <th>0</th>\n",
       "      <td>multi-family</td>\n",
       "      <td>803 Passmore St</td>\n",
       "      <td>2 Baths</td>\n",
       "      <td>Philadelphia</td>\n",
       "      <td>[{'rating': ['3/10', '2/10', '3/10'], 'data': ...</td>\n",
       "      <td>1,350 sqft</td>\n",
       "      <td>19111</td>\n",
       "      <td>3 Beds</td>\n",
       "      <td>PA</td>\n",
       "      <td>2.0</td>\n",
       "      <td>PAPH853202</td>\n",
       "      <td>195000.0</td>\n",
       "      <td>1950</td>\n",
       "      <td>NaN</td>\n",
       "      <td>Central</td>\n",
       "      <td>Other</td>\n",
       "      <td>NaN</td>\n",
       "    </tr>\n",
       "    <tr>\n",
       "      <th>1</th>\n",
       "      <td>lot/land</td>\n",
       "      <td>3609 Summit Ave</td>\n",
       "      <td>NaN</td>\n",
       "      <td>Greensboro</td>\n",
       "      <td>[{'rating': ['5/10', '5/10', '4/10'], 'data': ...</td>\n",
       "      <td>NaN</td>\n",
       "      <td>27405</td>\n",
       "      <td>NaN</td>\n",
       "      <td>NC</td>\n",
       "      <td>NaN</td>\n",
       "      <td>930640</td>\n",
       "      <td>199000.0</td>\n",
       "      <td>NaN</td>\n",
       "      <td>NaN</td>\n",
       "      <td>NaN</td>\n",
       "      <td>NaN</td>\n",
       "      <td>NaN</td>\n",
       "    </tr>\n",
       "    <tr>\n",
       "      <th>2</th>\n",
       "      <td>Land</td>\n",
       "      <td>4011 Valley Vista Dr</td>\n",
       "      <td>NaN</td>\n",
       "      <td>Lowell</td>\n",
       "      <td>[{'rating': ['7', '6'], 'data': {'Distance': [...</td>\n",
       "      <td>0</td>\n",
       "      <td>49331</td>\n",
       "      <td>NaN</td>\n",
       "      <td>MI</td>\n",
       "      <td>NaN</td>\n",
       "      <td>19058608</td>\n",
       "      <td>189900.0</td>\n",
       "      <td>NaN</td>\n",
       "      <td>NaN</td>\n",
       "      <td>NaN</td>\n",
       "      <td>NaN</td>\n",
       "      <td>NaN</td>\n",
       "    </tr>\n",
       "    <tr>\n",
       "      <th>3</th>\n",
       "      <td>Single Family</td>\n",
       "      <td>118 S 17th St</td>\n",
       "      <td>Bathrooms: 2</td>\n",
       "      <td>Allentown</td>\n",
       "      <td>[{'rating': ['2/10', '2/10', '2/10'], 'data': ...</td>\n",
       "      <td>Total interior livable area: 1,617 sqft</td>\n",
       "      <td>18104</td>\n",
       "      <td>3 bd</td>\n",
       "      <td>PA</td>\n",
       "      <td>2.0</td>\n",
       "      <td>NaN</td>\n",
       "      <td>189000.0</td>\n",
       "      <td>1909</td>\n",
       "      <td>NaN</td>\n",
       "      <td>NaN</td>\n",
       "      <td>Baseboard</td>\n",
       "      <td>1 space</td>\n",
       "    </tr>\n",
       "    <tr>\n",
       "      <th>4</th>\n",
       "      <td>single-family home</td>\n",
       "      <td>6820 Quincy St</td>\n",
       "      <td>4 Baths</td>\n",
       "      <td>Philadelphia</td>\n",
       "      <td>[{'rating': ['3/10', '1/10'], 'data': {'Distan...</td>\n",
       "      <td>5,013 sqft</td>\n",
       "      <td>19119</td>\n",
       "      <td>6 Beds</td>\n",
       "      <td>PA</td>\n",
       "      <td>3.0</td>\n",
       "      <td>PAPH851112</td>\n",
       "      <td>579000.0</td>\n",
       "      <td>1925</td>\n",
       "      <td>NaN</td>\n",
       "      <td>NaN</td>\n",
       "      <td>NaN</td>\n",
       "      <td>Detached Garage</td>\n",
       "    </tr>\n",
       "  </tbody>\n",
       "</table>\n",
       "</div>"
      ],
      "text/plain": [
       "         propertyType                street         baths          city  \\\n",
       "0        multi-family       803 Passmore St       2 Baths  Philadelphia   \n",
       "1            lot/land       3609 Summit Ave           NaN    Greensboro   \n",
       "2                Land  4011 Valley Vista Dr           NaN        Lowell   \n",
       "3       Single Family         118 S 17th St  Bathrooms: 2     Allentown   \n",
       "4  single-family home        6820 Quincy St       4 Baths  Philadelphia   \n",
       "\n",
       "                                             schools  \\\n",
       "0  [{'rating': ['3/10', '2/10', '3/10'], 'data': ...   \n",
       "1  [{'rating': ['5/10', '5/10', '4/10'], 'data': ...   \n",
       "2  [{'rating': ['7', '6'], 'data': {'Distance': [...   \n",
       "3  [{'rating': ['2/10', '2/10', '2/10'], 'data': ...   \n",
       "4  [{'rating': ['3/10', '1/10'], 'data': {'Distan...   \n",
       "\n",
       "                                      sqft zipcode    beds state stories  \\\n",
       "0                               1,350 sqft   19111  3 Beds    PA     2.0   \n",
       "1                                      NaN   27405     NaN    NC     NaN   \n",
       "2                                        0   49331     NaN    MI     NaN   \n",
       "3  Total interior livable area: 1,617 sqft   18104    3 bd    PA     2.0   \n",
       "4                               5,013 sqft   19119  6 Beds    PA     3.0   \n",
       "\n",
       "        MlsId    target fact_year_built fact_remodeled_year fact_cooling  \\\n",
       "0  PAPH853202  195000.0            1950                 NaN      Central   \n",
       "1      930640  199000.0             NaN                 NaN          NaN   \n",
       "2    19058608  189900.0             NaN                 NaN          NaN   \n",
       "3         NaN  189000.0            1909                 NaN          NaN   \n",
       "4  PAPH851112  579000.0            1925                 NaN          NaN   \n",
       "\n",
       "  fact_heating     fact_parking  \n",
       "0        Other              NaN  \n",
       "1          NaN              NaN  \n",
       "2          NaN              NaN  \n",
       "3    Baseboard          1 space  \n",
       "4          NaN  Detached Garage  "
      ]
     },
     "execution_count": 11,
     "metadata": {},
     "output_type": "execute_result"
    }
   ],
   "source": [
    "facts = [\n",
    "    {'col_name': 'fact_year_built', 'col_value': 'Year built'},\n",
    "    {'col_name': 'fact_remodeled_year', 'col_value': 'Remodeled year'},\n",
    "    {'col_name': 'fact_cooling', 'col_value': 'Cooling'},\n",
    "    {'col_name': 'fact_heating', 'col_value': 'Heating'},\n",
    "    {'col_name': 'fact_parking', 'col_value': 'Parking'}\n",
    "]\n",
    "\n",
    "for fact in facts:\n",
    "    df[fact['col_name']] = df['homeFacts'].apply(lambda x: data_transform.get_subfact(x, fact['col_value']))\n",
    "    \n",
    "df = df.drop('homeFacts', axis=1)\n",
    "    \n",
    "df.head()"
   ]
  },
  {
   "cell_type": "code",
   "execution_count": 12,
   "metadata": {},
   "outputs": [
    {
     "data": {
      "text/plain": [
       "propertyType            8.812139\n",
       "street                  0.000563\n",
       "baths                  26.471905\n",
       "city                    0.006760\n",
       "schools                 0.000000\n",
       "sqft                    9.248718\n",
       "zipcode                 0.000000\n",
       "beds                   22.348345\n",
       "state                   0.000000\n",
       "stories                38.145187\n",
       "MlsId                  17.512457\n",
       "target                  0.000000\n",
       "fact_year_built        14.365707\n",
       "fact_remodeled_year    58.662716\n",
       "fact_cooling           30.579693\n",
       "fact_heating           27.247608\n",
       "fact_parking           45.056375\n",
       "dtype: float64"
      ]
     },
     "execution_count": 12,
     "metadata": {},
     "output_type": "execute_result"
    }
   ],
   "source": [
    "df.isna().sum() / df.shape[0] * 100"
   ]
  },
  {
   "attachments": {},
   "cell_type": "markdown",
   "metadata": {},
   "source": [
    "Декодирование и формирование отдельных признаков из поля *schools*\n",
    "\n",
    "В результате получаем следующие признаки:\n",
    "* *schools_count* - количество близлежащих школ\n",
    "* *schools_avg_rate* - средний рейтинг школ\n",
    "* *schools_min_distance* - минимальное расстояние до школы\n",
    "* *schools_avg_distance* - среднее расстояние до школ\n",
    "* *schools_PK* - наличие рядом школы типа PK (ясли)\n",
    "* *schools_K* - наличие рядом школы типа K (детский сад)\n",
    "* *schools_M* - наличие рядом школы типа M (начальная школа)\n",
    "* *schools_H* - наличие рядом школы типа H (высшая школа)"
   ]
  },
  {
   "cell_type": "code",
   "execution_count": 13,
   "metadata": {},
   "outputs": [],
   "source": [
    "df['schools_count'] = df['schools'].apply(lambda x: data_transform.get_schools_count(x))\n",
    "df['schools_avg_rate'] = df['schools'].apply(lambda x: data_transform.get_schools_avg_rate(x))\n",
    "df['schools_min_distance'] = df['schools'].apply(lambda x: data_transform.get_schools_min_distance(x))\n",
    "df['schools_avg_distance'] = df['schools'].apply(lambda x: data_transform.get_schools_avg_distance(x))\n",
    "df['schools_grades_list'] = df['schools'].apply(lambda x: data_transform.get_schools_grades_list(x))\n",
    "\n",
    "df['schools_PK'] = df['schools_grades_list'].apply(lambda x: 1 if 'PK' in x else 0)\n",
    "df['schools_K'] = df['schools_grades_list'].apply(lambda x: 1 if 'K' in x else 0)\n",
    "df['schools_M'] = df['schools_grades_list'].apply(lambda x: 1 if 'M' in x else 0)\n",
    "df['schools_H'] = df['schools_grades_list'].apply(lambda x: 1 if 'H' in x else 0)\n",
    "\n",
    "df = df.drop(['schools_grades_list', 'schools'], axis=1)"
   ]
  },
  {
   "cell_type": "code",
   "execution_count": 14,
   "metadata": {},
   "outputs": [
    {
     "data": {
      "text/html": [
       "<div>\n",
       "<style scoped>\n",
       "    .dataframe tbody tr th:only-of-type {\n",
       "        vertical-align: middle;\n",
       "    }\n",
       "\n",
       "    .dataframe tbody tr th {\n",
       "        vertical-align: top;\n",
       "    }\n",
       "\n",
       "    .dataframe thead th {\n",
       "        text-align: right;\n",
       "    }\n",
       "</style>\n",
       "<table border=\"1\" class=\"dataframe\">\n",
       "  <thead>\n",
       "    <tr style=\"text-align: right;\">\n",
       "      <th></th>\n",
       "      <th>propertyType</th>\n",
       "      <th>street</th>\n",
       "      <th>baths</th>\n",
       "      <th>city</th>\n",
       "      <th>sqft</th>\n",
       "      <th>zipcode</th>\n",
       "      <th>beds</th>\n",
       "      <th>state</th>\n",
       "      <th>stories</th>\n",
       "      <th>MlsId</th>\n",
       "      <th>...</th>\n",
       "      <th>fact_heating</th>\n",
       "      <th>fact_parking</th>\n",
       "      <th>schools_count</th>\n",
       "      <th>schools_avg_rate</th>\n",
       "      <th>schools_min_distance</th>\n",
       "      <th>schools_avg_distance</th>\n",
       "      <th>schools_PK</th>\n",
       "      <th>schools_K</th>\n",
       "      <th>schools_M</th>\n",
       "      <th>schools_H</th>\n",
       "    </tr>\n",
       "  </thead>\n",
       "  <tbody>\n",
       "    <tr>\n",
       "      <th>0</th>\n",
       "      <td>multi-family</td>\n",
       "      <td>803 Passmore St</td>\n",
       "      <td>2 Baths</td>\n",
       "      <td>Philadelphia</td>\n",
       "      <td>1,350 sqft</td>\n",
       "      <td>19111</td>\n",
       "      <td>3 Beds</td>\n",
       "      <td>PA</td>\n",
       "      <td>2.0</td>\n",
       "      <td>PAPH853202</td>\n",
       "      <td>...</td>\n",
       "      <td>Other</td>\n",
       "      <td>NaN</td>\n",
       "      <td>3</td>\n",
       "      <td>2.666667</td>\n",
       "      <td>0.65</td>\n",
       "      <td>0.966667</td>\n",
       "      <td>0</td>\n",
       "      <td>1</td>\n",
       "      <td>1</td>\n",
       "      <td>1</td>\n",
       "    </tr>\n",
       "    <tr>\n",
       "      <th>1</th>\n",
       "      <td>lot/land</td>\n",
       "      <td>3609 Summit Ave</td>\n",
       "      <td>NaN</td>\n",
       "      <td>Greensboro</td>\n",
       "      <td>NaN</td>\n",
       "      <td>27405</td>\n",
       "      <td>NaN</td>\n",
       "      <td>NC</td>\n",
       "      <td>NaN</td>\n",
       "      <td>930640</td>\n",
       "      <td>...</td>\n",
       "      <td>NaN</td>\n",
       "      <td>NaN</td>\n",
       "      <td>3</td>\n",
       "      <td>4.666667</td>\n",
       "      <td>0.66</td>\n",
       "      <td>6.053333</td>\n",
       "      <td>1</td>\n",
       "      <td>1</td>\n",
       "      <td>1</td>\n",
       "      <td>1</td>\n",
       "    </tr>\n",
       "    <tr>\n",
       "      <th>2</th>\n",
       "      <td>Land</td>\n",
       "      <td>4011 Valley Vista Dr</td>\n",
       "      <td>NaN</td>\n",
       "      <td>Lowell</td>\n",
       "      <td>0</td>\n",
       "      <td>49331</td>\n",
       "      <td>NaN</td>\n",
       "      <td>MI</td>\n",
       "      <td>NaN</td>\n",
       "      <td>19058608</td>\n",
       "      <td>...</td>\n",
       "      <td>NaN</td>\n",
       "      <td>NaN</td>\n",
       "      <td>2</td>\n",
       "      <td>6.500000</td>\n",
       "      <td>4.60</td>\n",
       "      <td>4.700000</td>\n",
       "      <td>0</td>\n",
       "      <td>1</td>\n",
       "      <td>1</td>\n",
       "      <td>1</td>\n",
       "    </tr>\n",
       "    <tr>\n",
       "      <th>3</th>\n",
       "      <td>Single Family</td>\n",
       "      <td>118 S 17th St</td>\n",
       "      <td>Bathrooms: 2</td>\n",
       "      <td>Allentown</td>\n",
       "      <td>Total interior livable area: 1,617 sqft</td>\n",
       "      <td>18104</td>\n",
       "      <td>3 bd</td>\n",
       "      <td>PA</td>\n",
       "      <td>2.0</td>\n",
       "      <td>NaN</td>\n",
       "      <td>...</td>\n",
       "      <td>Baseboard</td>\n",
       "      <td>1 space</td>\n",
       "      <td>3</td>\n",
       "      <td>2.000000</td>\n",
       "      <td>0.10</td>\n",
       "      <td>0.233333</td>\n",
       "      <td>0</td>\n",
       "      <td>1</td>\n",
       "      <td>1</td>\n",
       "      <td>1</td>\n",
       "    </tr>\n",
       "    <tr>\n",
       "      <th>4</th>\n",
       "      <td>single-family home</td>\n",
       "      <td>6820 Quincy St</td>\n",
       "      <td>4 Baths</td>\n",
       "      <td>Philadelphia</td>\n",
       "      <td>5,013 sqft</td>\n",
       "      <td>19119</td>\n",
       "      <td>6 Beds</td>\n",
       "      <td>PA</td>\n",
       "      <td>3.0</td>\n",
       "      <td>PAPH851112</td>\n",
       "      <td>...</td>\n",
       "      <td>NaN</td>\n",
       "      <td>Detached Garage</td>\n",
       "      <td>2</td>\n",
       "      <td>2.000000</td>\n",
       "      <td>0.44</td>\n",
       "      <td>1.200000</td>\n",
       "      <td>0</td>\n",
       "      <td>1</td>\n",
       "      <td>1</td>\n",
       "      <td>1</td>\n",
       "    </tr>\n",
       "  </tbody>\n",
       "</table>\n",
       "<p>5 rows × 24 columns</p>\n",
       "</div>"
      ],
      "text/plain": [
       "         propertyType                street         baths          city  \\\n",
       "0        multi-family       803 Passmore St       2 Baths  Philadelphia   \n",
       "1            lot/land       3609 Summit Ave           NaN    Greensboro   \n",
       "2                Land  4011 Valley Vista Dr           NaN        Lowell   \n",
       "3       Single Family         118 S 17th St  Bathrooms: 2     Allentown   \n",
       "4  single-family home        6820 Quincy St       4 Baths  Philadelphia   \n",
       "\n",
       "                                      sqft zipcode    beds state stories  \\\n",
       "0                               1,350 sqft   19111  3 Beds    PA     2.0   \n",
       "1                                      NaN   27405     NaN    NC     NaN   \n",
       "2                                        0   49331     NaN    MI     NaN   \n",
       "3  Total interior livable area: 1,617 sqft   18104    3 bd    PA     2.0   \n",
       "4                               5,013 sqft   19119  6 Beds    PA     3.0   \n",
       "\n",
       "        MlsId  ...  fact_heating     fact_parking schools_count  \\\n",
       "0  PAPH853202  ...         Other              NaN             3   \n",
       "1      930640  ...           NaN              NaN             3   \n",
       "2    19058608  ...           NaN              NaN             2   \n",
       "3         NaN  ...     Baseboard          1 space             3   \n",
       "4  PAPH851112  ...           NaN  Detached Garage             2   \n",
       "\n",
       "  schools_avg_rate schools_min_distance schools_avg_distance  schools_PK  \\\n",
       "0         2.666667                 0.65             0.966667           0   \n",
       "1         4.666667                 0.66             6.053333           1   \n",
       "2         6.500000                 4.60             4.700000           0   \n",
       "3         2.000000                 0.10             0.233333           0   \n",
       "4         2.000000                 0.44             1.200000           0   \n",
       "\n",
       "   schools_K  schools_M  schools_H  \n",
       "0          1          1          1  \n",
       "1          1          1          1  \n",
       "2          1          1          1  \n",
       "3          1          1          1  \n",
       "4          1          1          1  \n",
       "\n",
       "[5 rows x 24 columns]"
      ]
     },
     "execution_count": 14,
     "metadata": {},
     "output_type": "execute_result"
    }
   ],
   "source": [
    "df.head()"
   ]
  },
  {
   "cell_type": "code",
   "execution_count": 15,
   "metadata": {},
   "outputs": [
    {
     "data": {
      "text/plain": [
       "propertyType             8.812139\n",
       "street                   0.000563\n",
       "baths                   26.471905\n",
       "city                     0.006760\n",
       "sqft                     9.248718\n",
       "zipcode                  0.000000\n",
       "beds                    22.348345\n",
       "state                    0.000000\n",
       "stories                 38.145187\n",
       "MlsId                   17.512457\n",
       "target                   0.000000\n",
       "fact_year_built         14.365707\n",
       "fact_remodeled_year     58.662716\n",
       "fact_cooling            30.579693\n",
       "fact_heating            27.247608\n",
       "fact_parking            45.056375\n",
       "schools_count            0.000000\n",
       "schools_avg_rate         0.000000\n",
       "schools_min_distance     0.000000\n",
       "schools_avg_distance     0.000000\n",
       "schools_PK               0.000000\n",
       "schools_K                0.000000\n",
       "schools_M                0.000000\n",
       "schools_H                0.000000\n",
       "dtype: float64"
      ]
     },
     "execution_count": 15,
     "metadata": {},
     "output_type": "execute_result"
    }
   ],
   "source": [
    "df.isna().sum() / df.shape[0] * 100"
   ]
  },
  {
   "attachments": {},
   "cell_type": "markdown",
   "metadata": {},
   "source": [
    "Формируем выборку почтовых индексов и названий штатов для записей с отсутствующим название города."
   ]
  },
  {
   "cell_type": "code",
   "execution_count": 16,
   "metadata": {},
   "outputs": [
    {
     "data": {
      "text/html": [
       "<div>\n",
       "<style scoped>\n",
       "    .dataframe tbody tr th:only-of-type {\n",
       "        vertical-align: middle;\n",
       "    }\n",
       "\n",
       "    .dataframe tbody tr th {\n",
       "        vertical-align: top;\n",
       "    }\n",
       "\n",
       "    .dataframe thead th {\n",
       "        text-align: right;\n",
       "    }\n",
       "</style>\n",
       "<table border=\"1\" class=\"dataframe\">\n",
       "  <thead>\n",
       "    <tr style=\"text-align: right;\">\n",
       "      <th></th>\n",
       "      <th>zipcode</th>\n",
       "      <th>state</th>\n",
       "    </tr>\n",
       "  </thead>\n",
       "  <tbody>\n",
       "    <tr>\n",
       "      <th>20848</th>\n",
       "      <td>78045</td>\n",
       "      <td>TX</td>\n",
       "    </tr>\n",
       "    <tr>\n",
       "      <th>22165</th>\n",
       "      <td>78045</td>\n",
       "      <td>TX</td>\n",
       "    </tr>\n",
       "    <tr>\n",
       "      <th>23697</th>\n",
       "      <td>38732</td>\n",
       "      <td>MS</td>\n",
       "    </tr>\n",
       "    <tr>\n",
       "      <th>48347</th>\n",
       "      <td>32668</td>\n",
       "      <td>FL</td>\n",
       "    </tr>\n",
       "    <tr>\n",
       "      <th>50667</th>\n",
       "      <td>78045</td>\n",
       "      <td>TX</td>\n",
       "    </tr>\n",
       "    <tr>\n",
       "      <th>63162</th>\n",
       "      <td>34747</td>\n",
       "      <td>FL</td>\n",
       "    </tr>\n",
       "    <tr>\n",
       "      <th>102797</th>\n",
       "      <td>33126</td>\n",
       "      <td>FL</td>\n",
       "    </tr>\n",
       "    <tr>\n",
       "      <th>148498</th>\n",
       "      <td>32686</td>\n",
       "      <td>FL</td>\n",
       "    </tr>\n",
       "    <tr>\n",
       "      <th>151840</th>\n",
       "      <td>34432</td>\n",
       "      <td>FL</td>\n",
       "    </tr>\n",
       "    <tr>\n",
       "      <th>159588</th>\n",
       "      <td>34747</td>\n",
       "      <td>FL</td>\n",
       "    </tr>\n",
       "    <tr>\n",
       "      <th>171953</th>\n",
       "      <td>20003</td>\n",
       "      <td>MA</td>\n",
       "    </tr>\n",
       "    <tr>\n",
       "      <th>176414</th>\n",
       "      <td>34432</td>\n",
       "      <td>FL</td>\n",
       "    </tr>\n",
       "    <tr>\n",
       "      <th>184461</th>\n",
       "      <td>78045</td>\n",
       "      <td>TX</td>\n",
       "    </tr>\n",
       "    <tr>\n",
       "      <th>194398</th>\n",
       "      <td>32686</td>\n",
       "      <td>FL</td>\n",
       "    </tr>\n",
       "    <tr>\n",
       "      <th>195250</th>\n",
       "      <td>34474</td>\n",
       "      <td>FL</td>\n",
       "    </tr>\n",
       "    <tr>\n",
       "      <th>216200</th>\n",
       "      <td>34474</td>\n",
       "      <td>FL</td>\n",
       "    </tr>\n",
       "    <tr>\n",
       "      <th>228099</th>\n",
       "      <td>34744</td>\n",
       "      <td>FL</td>\n",
       "    </tr>\n",
       "    <tr>\n",
       "      <th>237407</th>\n",
       "      <td>34474</td>\n",
       "      <td>FL</td>\n",
       "    </tr>\n",
       "    <tr>\n",
       "      <th>242523</th>\n",
       "      <td>34741</td>\n",
       "      <td>FL</td>\n",
       "    </tr>\n",
       "    <tr>\n",
       "      <th>246302</th>\n",
       "      <td>78045</td>\n",
       "      <td>TX</td>\n",
       "    </tr>\n",
       "    <tr>\n",
       "      <th>251049</th>\n",
       "      <td>34747</td>\n",
       "      <td>FL</td>\n",
       "    </tr>\n",
       "    <tr>\n",
       "      <th>278207</th>\n",
       "      <td>34747</td>\n",
       "      <td>FL</td>\n",
       "    </tr>\n",
       "    <tr>\n",
       "      <th>291554</th>\n",
       "      <td>77032</td>\n",
       "      <td>TX</td>\n",
       "    </tr>\n",
       "    <tr>\n",
       "      <th>324847</th>\n",
       "      <td>78045</td>\n",
       "      <td>TX</td>\n",
       "    </tr>\n",
       "  </tbody>\n",
       "</table>\n",
       "</div>"
      ],
      "text/plain": [
       "       zipcode state\n",
       "20848    78045    TX\n",
       "22165    78045    TX\n",
       "23697    38732    MS\n",
       "48347    32668    FL\n",
       "50667    78045    TX\n",
       "63162    34747    FL\n",
       "102797   33126    FL\n",
       "148498   32686    FL\n",
       "151840   34432    FL\n",
       "159588   34747    FL\n",
       "171953   20003    MA\n",
       "176414   34432    FL\n",
       "184461   78045    TX\n",
       "194398   32686    FL\n",
       "195250   34474    FL\n",
       "216200   34474    FL\n",
       "228099   34744    FL\n",
       "237407   34474    FL\n",
       "242523   34741    FL\n",
       "246302   78045    TX\n",
       "251049   34747    FL\n",
       "278207   34747    FL\n",
       "291554   77032    TX\n",
       "324847   78045    TX"
      ]
     },
     "execution_count": 16,
     "metadata": {},
     "output_type": "execute_result"
    }
   ],
   "source": [
    "df[df['city'].isna()][['zipcode', 'state']]"
   ]
  },
  {
   "attachments": {},
   "cell_type": "markdown",
   "metadata": {},
   "source": [
    "По эти данным восстанавливаем название города."
   ]
  },
  {
   "cell_type": "code",
   "execution_count": 17,
   "metadata": {},
   "outputs": [],
   "source": [
    "city_by_zip_state = {\n",
    "    '32686_FL': 'Reddick',\n",
    "    '32668_FL': 'Morriston',\n",
    "    '78045_TX': 'Laredo',\n",
    "    '34474_FL': 'Ocala',\n",
    "    '34432_FL': 'Dunnellon',\n",
    "    '34741_FL': 'Kissimmee',\n",
    "    '38732_MS': 'Cleveland',\n",
    "    '34747_FL': 'Kissimmee',\n",
    "    '34744_FL': 'Kissimmee',\n",
    "    '33126_FL': 'Miami',\n",
    "    '77032_TX': 'Houston'\n",
    "}"
   ]
  },
  {
   "cell_type": "code",
   "execution_count": 18,
   "metadata": {},
   "outputs": [],
   "source": [
    "def found_city_by_zip_state(zipcode, state):\n",
    "    key = zipcode+'_'+state\n",
    "    return np.NaN if key not in city_by_zip_state else city_by_zip_state[key]"
   ]
  },
  {
   "cell_type": "code",
   "execution_count": 19,
   "metadata": {},
   "outputs": [],
   "source": [
    "city_mask = df['city'].isna()\n",
    "df.loc[city_mask, 'city'] = df[city_mask].apply(lambda x: found_city_by_zip_state(x['zipcode'], x['state']), axis=1)"
   ]
  },
  {
   "cell_type": "code",
   "execution_count": 20,
   "metadata": {},
   "outputs": [],
   "source": [
    "df = df.dropna(subset=['city'], axis=0)"
   ]
  },
  {
   "cell_type": "code",
   "execution_count": 21,
   "metadata": {},
   "outputs": [],
   "source": [
    "df = df.dropna(subset=['street'], axis=0)"
   ]
  },
  {
   "attachments": {},
   "cell_type": "markdown",
   "metadata": {},
   "source": [
    "Анализ распределения значений в поле *sqft*\n",
    "\n",
    "В качесьве первого шага конвертируем данные в тип *float* для дальнейшего анализа и использования."
   ]
  },
  {
   "cell_type": "code",
   "execution_count": 22,
   "metadata": {},
   "outputs": [],
   "source": [
    "mask = ~df['sqft'].isna()\n",
    "df.loc[mask, 'sqft_fl'] = df[mask]['sqft'].apply(lambda x: data_transform.convert_sqft_str_to_float(x))"
   ]
  },
  {
   "cell_type": "code",
   "execution_count": 23,
   "metadata": {},
   "outputs": [
    {
     "data": {
      "image/png": "[encoded data removed]",
      "text/plain": [
       "<Figure size 1600x600 with 1 Axes>"
      ]
     },
     "metadata": {},
     "output_type": "display_data"
    }
   ],
   "source": [
    "fig = plt.figure(figsize=(16, 6))\n",
    "boxplot = sns.boxplot(\n",
    "    data=df,\n",
    "    x='sqft_fl',\n",
    "    orient='h',\n",
    "    width=0.9\n",
    ")\n",
    "boxplot.set_title('Распределение площади');\n",
    "boxplot.set_xlabel('Площадь');\n",
    "boxplot.grid()"
   ]
  },
  {
   "attachments": {},
   "cell_type": "markdown",
   "metadata": {},
   "source": [
    "Из диаграмы заметно наличие выбросов \"сверху\""
   ]
  },
  {
   "cell_type": "code",
   "execution_count": 26,
   "metadata": {},
   "outputs": [
    {
     "data": {
      "text/plain": [
       "99.50539246641179"
      ]
     },
     "execution_count": 26,
     "metadata": {},
     "output_type": "execute_result"
    }
   ],
   "source": [
    "df[(df['sqft_fl'] < 15000)].shape[0] / df[~df['sqft_fl'].isna()].shape[0] * 100"
   ]
  },
  {
   "cell_type": "code",
   "execution_count": 27,
   "metadata": {},
   "outputs": [
    {
     "data": {
      "image/png": "[encoded data removed]",
      "text/plain": [
       "<Figure size 1600x600 with 1 Axes>"
      ]
     },
     "metadata": {},
     "output_type": "display_data"
    }
   ],
   "source": [
    "fig = plt.figure(figsize=(16, 6))\n",
    "boxplot = sns.boxplot(\n",
    "    data=df[df['sqft_fl'] < 15000],\n",
    "    x='sqft_fl',\n",
    "    orient='h',\n",
    "    width=0.9\n",
    ")\n",
    "boxplot.set_title('Распределение площади');\n",
    "boxplot.set_xlabel('Площадь');\n",
    "boxplot.grid()"
   ]
  },
  {
   "attachments": {},
   "cell_type": "markdown",
   "metadata": {},
   "source": [
    "В качестве верхней границы отсечения \"нормальных\" данных от выбросов принимаем значение 15000.\n",
    "\n",
    "В данный диапазон попадает 99.5% всех данных, остальные считаем выбросами, и записи с такими значения отбрасываем."
   ]
  },
  {
   "cell_type": "code",
   "execution_count": 29,
   "metadata": {},
   "outputs": [],
   "source": [
    "df = df[df['sqft_fl'] < 15000]\n",
    "df = df.drop('sqft', axis=1)\n",
    "\n",
    "sqft_fill_value = df['sqft_fl'].median()\n",
    "df['sqft_fl'].fillna(sqft_fill_value, inplace=True)"
   ]
  },
  {
   "attachments": {},
   "cell_type": "markdown",
   "metadata": {},
   "source": [
    "Пропущенные значение заполняем медианным значением площади."
   ]
  },
  {
   "cell_type": "code",
   "execution_count": 30,
   "metadata": {},
   "outputs": [],
   "source": [
    "pr_type_fiil_value = df['propertyType'].mode()[0]\n",
    "df['propertyType'].fillna(pr_type_fiil_value, inplace=True)"
   ]
  },
  {
   "attachments": {},
   "cell_type": "markdown",
   "metadata": {},
   "source": [
    "Пропущенные значения в поле *propertyType* заполняем модой."
   ]
  },
  {
   "cell_type": "code",
   "execution_count": 31,
   "metadata": {},
   "outputs": [],
   "source": [
    "df['has_mls_id'] = 0\n",
    "mask = ~df['MlsId'].isna()\n",
    "df.loc[mask, 'has_mls_id'] = 1\n",
    "\n",
    "df = df.drop('MlsId', axis=1)"
   ]
  },
  {
   "attachments": {},
   "cell_type": "markdown",
   "metadata": {},
   "source": [
    "Вместо поля *MlsId* (которое имеет достаточно большое количество пропусков и его достаточно сложно использовать в качестве информативного) добаяляем поле *has_mls_id* (наличие/отсутствие данного параметра в данных)."
   ]
  },
  {
   "cell_type": "code",
   "execution_count": 32,
   "metadata": {},
   "outputs": [
    {
     "data": {
      "text/plain": [
       "single-family home               33.828373\n",
       "Single Family                    17.109835\n",
       "Single Family Home                8.844783\n",
       "condo                             7.102478\n",
       "Condo                             4.539950\n",
       "lot/land                          4.423382\n",
       "townhouse                         3.169421\n",
       "Condo/Townhome/Row Home/Co-Op     2.155387\n",
       "multi-family                      2.110118\n",
       "Land                              2.018730\n",
       "Name: propertyType, dtype: float64"
      ]
     },
     "execution_count": 32,
     "metadata": {},
     "output_type": "execute_result"
    }
   ],
   "source": [
    "(df['propertyType'].value_counts() / df.shape[0] * 100).head(10)"
   ]
  },
  {
   "cell_type": "code",
   "execution_count": 33,
   "metadata": {},
   "outputs": [],
   "source": [
    "pr_type_features = data_transform.get_pr_type_features_list()\n",
    "\n",
    "mask = ~df['propertyType'].isna()\n",
    "\n",
    "for pr_type_feature in pr_type_features:\n",
    "    df[pr_type_feature] = 0\n",
    "    df.loc[mask, pr_type_feature] = df[mask]['propertyType'].apply(lambda x: data_transform.get_pr_type_feature(x, pr_type_feature))"
   ]
  },
  {
   "attachments": {},
   "cell_type": "markdown",
   "metadata": {},
   "source": [
    "На основании анализа наиболее часто встречающихся значений в поле *propertyType* выделяем следующие бинарные признаки (по совпадением с группой регулярных выражений):\n",
    "\n",
    "* SINGLE-FAMILY\n",
    "* MULTI-FAMILY\n",
    "* CONDOMINIMUM\n",
    "* LAND\n",
    "* TOWNHOUSE\n",
    "* TRADITIONAL\n",
    "* MODERN\n",
    "* RANCH\n",
    "* DETACHED\n",
    "\n",
    "И создаем группу соответсвующих признаков вместо исходного поля *propertyType*"
   ]
  },
  {
   "cell_type": "code",
   "execution_count": 34,
   "metadata": {},
   "outputs": [],
   "source": [
    "story_features = data_transform.get_stories_features_list()\n",
    "\n",
    "mask = ~df['propertyType'].isna()\n",
    "\n",
    "for story_feature in story_features:\n",
    "    df[story_feature] = 0\n",
    "    df.loc[mask, story_feature] = df[mask]['propertyType'].apply(lambda x: data_transform.get_stroty_feature_by_pr_type(x, story_feature))"
   ]
  },
  {
   "attachments": {},
   "cell_type": "markdown",
   "metadata": {},
   "source": [
    "Помимо этого из поля *propertyType* имеется возможность выделить информацио об этажности объекта в виде группы банарных признаков:\n",
    "\n",
    "* 1-STORY\n",
    "* 2-STORY\n",
    "* 3-STORY\n",
    "* OTHER-STORY"
   ]
  },
  {
   "cell_type": "code",
   "execution_count": 35,
   "metadata": {},
   "outputs": [
    {
     "data": {
      "text/plain": [
       "1.0    18.470179\n",
       "2.0    15.154482\n",
       "1       6.350441\n",
       "2       4.973970\n",
       "3.0     3.062755\n",
       "0.0     1.974027\n",
       "One     1.620077\n",
       "0       1.165686\n",
       "3       1.149276\n",
       "9.0     0.805512\n",
       "Name: stories, dtype: float64"
      ]
     },
     "execution_count": 35,
     "metadata": {},
     "output_type": "execute_result"
    }
   ],
   "source": [
    "(df['stories'].value_counts() / df.shape[0] * 100).head(10)"
   ]
  },
  {
   "cell_type": "code",
   "execution_count": 36,
   "metadata": {},
   "outputs": [],
   "source": [
    "mask = ~df['stories'].isna()\n",
    "df.loc[mask, 'stories_int'] = df[mask]['stories'].apply(data_transform.get_story_count_by_story)"
   ]
  },
  {
   "cell_type": "code",
   "execution_count": 37,
   "metadata": {},
   "outputs": [],
   "source": [
    "story_features = data_transform.get_stories_features_list()\n",
    "st_count = 1\n",
    "\n",
    "mask = ~df['stories_int'].isna()\n",
    "for st_feature in story_features:\n",
    "    if st_count < len(story_features):\n",
    "        df.loc[mask, st_feature] = df[mask]['stories_int'].apply(lambda x: 1 if st_count == x else 0)\n",
    "    else:\n",
    "        df.loc[mask, st_feature] = df[mask]['stories_int'].apply(lambda x: 1 if st_count <= x else 0)\n",
    "\n",
    "    st_count += 1"
   ]
  },
  {
   "attachments": {},
   "cell_type": "markdown",
   "metadata": {},
   "source": [
    "Группа бинарных признаков об этажности дополняется (там где это возможно) на основании сконвертированного в *int* поля *stories*"
   ]
  },
  {
   "cell_type": "code",
   "execution_count": 38,
   "metadata": {},
   "outputs": [],
   "source": [
    "df = df.drop(['propertyType', 'stories', 'stories_int'], axis=1)"
   ]
  },
  {
   "cell_type": "code",
   "execution_count": 39,
   "metadata": {},
   "outputs": [
    {
     "data": {
      "text/plain": [
       "baths                  26.26\n",
       "beds                   22.17\n",
       "fact_year_built        14.31\n",
       "fact_remodeled_year    58.50\n",
       "fact_cooling           30.35\n",
       "fact_heating           27.04\n",
       "fact_parking           44.91\n",
       "dtype: float64"
      ]
     },
     "execution_count": 39,
     "metadata": {},
     "output_type": "execute_result"
    }
   ],
   "source": [
    "na_cols_list = np.round(df.isna().sum() / df.shape[0] * 100, 2)\n",
    "mask = na_cols_list > 0\n",
    "na_cols_list[mask]"
   ]
  },
  {
   "cell_type": "code",
   "execution_count": 40,
   "metadata": {},
   "outputs": [],
   "source": [
    "mask = ~df['beds'].isna()\n",
    "df.loc[mask, 'beds'] = df[mask]['beds'].apply(data_transform.clear_beds_from_sqr)"
   ]
  },
  {
   "cell_type": "code",
   "execution_count": 41,
   "metadata": {},
   "outputs": [],
   "source": [
    "mask = ~df['beds'].isna()\n",
    "df.loc[mask, 'beds_int'] = df[mask]['beds'].apply(data_transform.convert_beds_str_to_int)"
   ]
  },
  {
   "cell_type": "code",
   "execution_count": 42,
   "metadata": {},
   "outputs": [
    {
     "data": {
      "text/plain": [
       "3.0     29.050192\n",
       "4.0     18.969556\n",
       "2.0     13.664271\n",
       "5.0      5.834088\n",
       "1.0      1.703825\n",
       "6.0      1.652048\n",
       "7.0      0.424117\n",
       "0.0      0.376019\n",
       "8.0      0.302173\n",
       "9.0      0.120813\n",
       "10.0     0.070733\n",
       "12.0     0.049230\n",
       "11.0     0.031689\n",
       "16.0     0.017825\n",
       "13.0     0.011600\n",
       "14.0     0.011034\n",
       "15.0     0.009054\n",
       "18.0     0.007922\n",
       "64.0     0.007073\n",
       "24.0     0.006507\n",
       "20.0     0.003112\n",
       "17.0     0.002829\n",
       "22.0     0.001981\n",
       "32.0     0.001698\n",
       "19.0     0.001698\n",
       "26.0     0.001698\n",
       "34.0     0.000849\n",
       "28.0     0.000849\n",
       "30.0     0.000849\n",
       "23.0     0.000566\n",
       "25.0     0.000566\n",
       "27.0     0.000566\n",
       "40.0     0.000566\n",
       "21.0     0.000283\n",
       "46.0     0.000283\n",
       "36.0     0.000283\n",
       "44.0     0.000283\n",
       "29.0     0.000283\n",
       "47.0     0.000283\n",
       "42.0     0.000283\n",
       "Name: beds_int, dtype: float64"
      ]
     },
     "execution_count": 42,
     "metadata": {},
     "output_type": "execute_result"
    }
   ],
   "source": [
    "df['beds_int'].value_counts() / df.shape[0] * 100"
   ]
  },
  {
   "cell_type": "code",
   "execution_count": 43,
   "metadata": {},
   "outputs": [],
   "source": [
    "beds_features = data_transform.get_beds_features_list()\n",
    "beds_count = 1\n",
    "\n",
    "mask = ~df['beds_int'].isna()\n",
    "for bed_feature in beds_features:\n",
    "    df[bed_feature] = 0\n",
    "    if beds_count < len(beds_features):\n",
    "        df.loc[mask, bed_feature] = df[mask]['beds_int'].apply(lambda x: 1 if beds_count == x else 0)\n",
    "    else:\n",
    "        df.loc[mask, bed_feature] = df[mask]['beds_int'].apply(lambda x: 1 if beds_count <= x else 0)\n",
    "\n",
    "    beds_count += 1"
   ]
  },
  {
   "attachments": {},
   "cell_type": "markdown",
   "metadata": {},
   "source": [
    "Аналогично формируются бинарные признаки о числе спален на основании поля *beds*:\n",
    "\n",
    "* 1-BEDROOM\n",
    "* 2-BEDROOMS\n",
    "* 3-BEDROOMS\n",
    "* 4-BEDROOMS\n",
    "* 5-BEDROOMS\n",
    "* 6-BEDROOMS\n",
    "* OTHER-BEDROOMS"
   ]
  },
  {
   "cell_type": "code",
   "execution_count": 44,
   "metadata": {},
   "outputs": [],
   "source": [
    "df = df.drop(['beds_int', 'beds'], axis=1)"
   ]
  },
  {
   "cell_type": "code",
   "execution_count": 45,
   "metadata": {},
   "outputs": [
    {
     "data": {
      "text/plain": [
       "baths                  26.26\n",
       "fact_year_built        14.31\n",
       "fact_remodeled_year    58.50\n",
       "fact_cooling           30.35\n",
       "fact_heating           27.04\n",
       "fact_parking           44.91\n",
       "dtype: float64"
      ]
     },
     "execution_count": 45,
     "metadata": {},
     "output_type": "execute_result"
    }
   ],
   "source": [
    "na_cols_list = np.round(df.isna().sum() / df.shape[0] * 100, 2)\n",
    "mask = na_cols_list > 0\n",
    "na_cols_list[mask]"
   ]
  },
  {
   "cell_type": "code",
   "execution_count": 46,
   "metadata": {},
   "outputs": [
    {
     "data": {
      "text/plain": [
       "2 Baths       14.412913\n",
       "3 Baths        9.887958\n",
       "2              5.726007\n",
       "2.0            4.589181\n",
       "4 Baths        4.049344\n",
       "                ...    \n",
       "10.5 Baths     0.000283\n",
       "5.2 Baths      0.000283\n",
       "26 Baths       0.000283\n",
       "22             0.000283\n",
       "19 Baths       0.000283\n",
       "Name: baths, Length: 187, dtype: float64"
      ]
     },
     "execution_count": 46,
     "metadata": {},
     "output_type": "execute_result"
    }
   ],
   "source": [
    "(df['baths'].value_counts() / df.shape[0] * 100)"
   ]
  },
  {
   "cell_type": "code",
   "execution_count": 47,
   "metadata": {},
   "outputs": [],
   "source": [
    "mask = ~df['baths'].isna()\n",
    "df.loc[mask, 'baths_int'] = df[mask]['baths'].apply(data_transform.convert_baths_str_to_int)"
   ]
  },
  {
   "cell_type": "code",
   "execution_count": 48,
   "metadata": {},
   "outputs": [
    {
     "data": {
      "text/plain": [
       "2.0       32.256111\n",
       "3.0       18.145654\n",
       "4.0        9.026992\n",
       "1.0        4.460729\n",
       "5.0        2.453882\n",
       "6.0        1.219443\n",
       "1500.0     0.616795\n",
       "0.0        0.533330\n",
       "2000.0     0.500226\n",
       "1750.0     0.478723\n",
       "7.0        0.473065\n",
       "3000.0     0.468538\n",
       "2250.0     0.396956\n",
       "1000.0     0.350555\n",
       "1250.0     0.337257\n",
       "2750.0     0.269070\n",
       "2500.0     0.250113\n",
       "8.0        0.245303\n",
       "3500.0     0.180229\n",
       "9.0        0.084314\n",
       "4000.0     0.080636\n",
       "750.0      0.065075\n",
       "5000.0     0.064509\n",
       "10.0       0.044703\n",
       "11.0       0.025181\n",
       "12.0       0.022635\n",
       "16.0       0.011600\n",
       "13.0       0.010186\n",
       "18.0       0.007073\n",
       "14.0       0.005942\n",
       "15.0       0.003678\n",
       "20.0       0.003112\n",
       "24.0       0.002829\n",
       "30.0       0.001698\n",
       "17.0       0.001132\n",
       "22.0       0.000849\n",
       "21.0       0.000566\n",
       "19.0       0.000566\n",
       "40.0       0.000283\n",
       "41.0       0.000283\n",
       "26.0       0.000283\n",
       "241.0      0.000283\n",
       "29.0       0.000283\n",
       "36.0       0.000283\n",
       "23.0       0.000283\n",
       "25.0       0.000283\n",
       "Name: baths_int, dtype: float64"
      ]
     },
     "execution_count": 48,
     "metadata": {},
     "output_type": "execute_result"
    }
   ],
   "source": [
    "df['baths_int'].value_counts() / df.shape[0] * 100"
   ]
  },
  {
   "cell_type": "code",
   "execution_count": 49,
   "metadata": {},
   "outputs": [],
   "source": [
    "baths_features = data_transform.get_bathrooms_features_list()\n",
    "baths_count = 1\n",
    "\n",
    "mask = ~df['baths_int'].isna()\n",
    "for bath_feature in baths_features:\n",
    "    df[bath_feature] = 0\n",
    "    if baths_count < len(baths_features):\n",
    "        df.loc[mask, bath_feature] = df[mask]['baths_int'].apply(lambda x: 1 if baths_count == x else 0)\n",
    "    else:\n",
    "        df.loc[mask, bath_feature] = df[mask]['baths_int'].apply(lambda x: 1 if baths_count <= x else 0)\n",
    "\n",
    "    baths_count += 1"
   ]
  },
  {
   "attachments": {},
   "cell_type": "markdown",
   "metadata": {},
   "source": [
    "И формирем бинарные признаки о числе ванных комнат на основании поля *baths*:\n",
    "\n",
    "* 1-BATHROOM\n",
    "* 2-BATHROOMS\n",
    "* 3-BATHROOMS\n",
    "* 4-BATHROOMS\n",
    "* 5-BATHROOMS\n",
    "* 6-BATHROOMS\n",
    "* OTHER-BATHROOMS"
   ]
  },
  {
   "cell_type": "code",
   "execution_count": 50,
   "metadata": {},
   "outputs": [],
   "source": [
    "df = df.drop(['baths_int', 'baths'], axis=1)"
   ]
  },
  {
   "cell_type": "code",
   "execution_count": 51,
   "metadata": {},
   "outputs": [],
   "source": [
    "df['was_remodeled'] = 0\n",
    "\n",
    "mask = ~df['fact_remodeled_year'].isna()\n",
    "df.loc[mask, 'was_remodeled'] = df[mask]['fact_remodeled_year'].apply(lambda x: 1)"
   ]
  },
  {
   "cell_type": "code",
   "execution_count": 52,
   "metadata": {},
   "outputs": [],
   "source": [
    "df = df.drop('fact_remodeled_year', axis=1)"
   ]
  },
  {
   "attachments": {},
   "cell_type": "markdown",
   "metadata": {},
   "source": [
    "На основании данных о годе реконструкции *fact_remodeled_year* формируем бинарный признак *was_remodeled* (была или нет реконструкция)"
   ]
  },
  {
   "cell_type": "code",
   "execution_count": 53,
   "metadata": {},
   "outputs": [
    {
     "data": {
      "text/plain": [
       "fact_year_built    14.31\n",
       "fact_cooling       30.35\n",
       "fact_heating       27.04\n",
       "fact_parking       44.91\n",
       "dtype: float64"
      ]
     },
     "execution_count": 53,
     "metadata": {},
     "output_type": "execute_result"
    }
   ],
   "source": [
    "na_cols_list = np.round(df.isna().sum() / df.shape[0] * 100, 2)\n",
    "mask = na_cols_list > 0\n",
    "na_cols_list[mask]"
   ]
  },
  {
   "cell_type": "code",
   "execution_count": 54,
   "metadata": {},
   "outputs": [],
   "source": [
    "years_subset_size = data_transform.get_nunuques_size(df, 'fact_year_built', percent=50, start_n=10, step=5)\n",
    "subset = data_transform.get_weighted_nuniques_list(df, 'fact_year_built', years_subset_size)\n",
    "\n",
    "df['fact_year_built'] = df['fact_year_built'].apply(lambda x: data_transform.get_weighted_random_item(subset) if pd.isnull(x) else x)"
   ]
  },
  {
   "cell_type": "code",
   "execution_count": 55,
   "metadata": {},
   "outputs": [],
   "source": [
    "mask = df['fact_year_built'] == 'No Data'\n",
    "df.loc[mask, 'fact_year_built'] = df[mask]['fact_year_built'].apply(lambda x: data_transform.get_weighted_random_item(subset))"
   ]
  },
  {
   "cell_type": "code",
   "execution_count": 56,
   "metadata": {},
   "outputs": [],
   "source": [
    "df['fact_year_built'] = df['fact_year_built'].apply(lambda x: int(x))"
   ]
  },
  {
   "attachments": {},
   "cell_type": "markdown",
   "metadata": {},
   "source": [
    "Отсутствующие данные о годе постройки заполняем случайным образом, но сохранением распределения среди остальных данных.\n",
    "\n",
    "Функция *data_transform.get_weighted_nuniques_list* генерирует список позволяющий в дальнейшем генерировть случайный год с распределением, совпадающим с исходными данными (за генерацию случайного года с заданым распределеним отвечает *data_transform.get_weighted_random_item*)."
   ]
  },
  {
   "cell_type": "code",
   "execution_count": 57,
   "metadata": {},
   "outputs": [],
   "source": [
    "base_year = 2023\n",
    "df['object_age'] = df['fact_year_built'].apply(lambda x: 0 if (base_year-x) < 0 else (base_year-x))"
   ]
  },
  {
   "cell_type": "code",
   "execution_count": 58,
   "metadata": {},
   "outputs": [],
   "source": [
    "df = df.drop('fact_year_built', axis=1)"
   ]
  },
  {
   "attachments": {},
   "cell_type": "markdown",
   "metadata": {},
   "source": [
    "Всесто года постройки создаем признак *object_age* (возраст объекта относительно 2023 года)"
   ]
  },
  {
   "cell_type": "code",
   "execution_count": 59,
   "metadata": {},
   "outputs": [
    {
     "data": {
      "text/plain": [
       "Central                                                        43.566376\n",
       "Central Air                                                     4.042836\n",
       "No Data                                                         2.851969\n",
       "Has Cooling                                                     2.675136\n",
       "None                                                            1.989588\n",
       "Central Electric                                                1.729289\n",
       "Wall                                                            1.107684\n",
       "Central Gas                                                     1.005263\n",
       "Central Heating                                                 0.790799\n",
       "Cooling System                                                  0.754866\n",
       "Central A/C                                                     0.559925\n",
       "Other                                                           0.484665\n",
       "Central A/C (Electric), Central Heat (Gas)                      0.458918\n",
       "Central A/C (Electric), Central Heat (Electric)                 0.400634\n",
       "Refrigeration                                                   0.298212\n",
       "Central, Electric                                               0.297363\n",
       "Electric                                                        0.282933\n",
       "Evaporative                                                     0.276143\n",
       "Central Air, Gas Hot Air/Furnace                                0.232571\n",
       "Refrigeration, Ceiling Fan(s)                                   0.222669\n",
       "Central Gas, Zoned                                              0.203995\n",
       "Central, Wall                                                   0.201166\n",
       "Air Conditioning-Central                                        0.179663\n",
       "2 or More Units, Central, Electric                              0.159574\n",
       "Has Heating                                                     0.144579\n",
       "Central Air, Gas (Hot Air)                                      0.141750\n",
       "Central Electric, Zoned                                         0.126188\n",
       "Central Air, Zoned                                              0.123359\n",
       "Solar, Refrigeration                                            0.116852\n",
       "Central, Other                                                  0.114871\n",
       "Ceiling Fan, Central Electric                                   0.112890\n",
       "Electric Heating                                                0.112325\n",
       "Central Cooling                                                 0.111476\n",
       "Heat Pump                                                       0.108364\n",
       "Gas Heating                                                     0.093368\n",
       "Central A/C (Electric), Central Heat (Gas), Zoned               0.082051\n",
       "Central Electric, Heat Pump                                     0.078090\n",
       "Gas Heating, Forced Air Heating                                 0.073280\n",
       "Heat Pump - AC                                                  0.071299\n",
       "Central Air, Gas Hot Air/Furnace, Multizone A/C                 0.064792\n",
       "Central Electric, Central Gas                                   0.063094\n",
       "Forced Air Heating                                              0.056021\n",
       "Central Air, Humidity Control                                   0.053191\n",
       "Wall/Window Unit(s)                                             0.049796\n",
       "Heat Pump for A/C, Heat Pump for Heat                           0.049796\n",
       "Window Unit(s)                                                  0.047250\n",
       "Refrigeration, Ceiling Fan(s), Programmable Thmstat             0.046684\n",
       "Central Heating, Heat Pump Heating                              0.044703\n",
       "Central Air, Gas (Hot Air), Multi-Zone A/C, Multi-Zone Heat     0.041025\n",
       "Steam Heating                                                   0.038762\n",
       "Name: fact_cooling, dtype: float64"
      ]
     },
     "execution_count": 59,
     "metadata": {},
     "output_type": "execute_result"
    }
   ],
   "source": [
    "(df['fact_cooling'].value_counts() / df.shape[0] * 100)[:50]"
   ]
  },
  {
   "cell_type": "code",
   "execution_count": 60,
   "metadata": {},
   "outputs": [],
   "source": [
    "cooling_features = data_transform.get_cooling_features_list()\n",
    "\n",
    "mask = ~df['fact_cooling'].isna()\n",
    "\n",
    "for cooling_feature in cooling_features:\n",
    "    df[cooling_feature] = 0\n",
    "    df.loc[mask, cooling_feature] = df[mask]['fact_cooling'].apply(lambda x: data_transform.get_cooling_feature(x, cooling_feature))"
   ]
  },
  {
   "cell_type": "code",
   "execution_count": 61,
   "metadata": {},
   "outputs": [],
   "source": [
    "df = df.drop('fact_cooling', axis=1)"
   ]
  },
  {
   "attachments": {},
   "cell_type": "markdown",
   "metadata": {},
   "source": [
    "На основании поля *fact_cooling* формируем группу бинарных признаков, описывающих систему кондиционирования:\n",
    "\n",
    "* CENTRAL_COOLING\n",
    "* COOLING\n",
    "* HEATING\n",
    "* GAS\n",
    "* ELECTRIC\n",
    "* ZONED\n",
    "* HEAT_PUMP\n",
    "* WALL"
   ]
  },
  {
   "cell_type": "code",
   "execution_count": 62,
   "metadata": {},
   "outputs": [
    {
     "data": {
      "text/plain": [
       "Forced Air                               22.509054\n",
       "Forced air                               14.096593\n",
       "Other                                     7.987211\n",
       "Electric                                  2.554889\n",
       "Gas                                       2.506790\n",
       "No Data                                   2.293742\n",
       "Central Air                               2.147182\n",
       "Central Electric                          1.996661\n",
       "Central                                   1.755885\n",
       "Heat Pump                                 1.698732\n",
       "Central, Electric                         1.191999\n",
       "Baseboard                                 1.046854\n",
       "Wall                                      0.909631\n",
       "Electric Heat                             0.863513\n",
       "Heat pump                                 0.762506\n",
       "Heating System                            0.756847\n",
       "Forced air, Heat pump                     0.482684\n",
       "Radiant                                   0.402614\n",
       "Central Air, Ceiling Fan(s)               0.396390\n",
       "Natural Gas Heat                          0.388185\n",
       "Central Furnace                           0.265675\n",
       "Forced Air, Gas                           0.252377\n",
       "Central Electric, Zoned                   0.238230\n",
       "Forced Air Heating                        0.226630\n",
       ", Gas Hot Air/Furnace                     0.218425\n",
       "Gas Heat                                  0.216444\n",
       "Forced Air, Natural Gas                   0.205693\n",
       "Central Heating                           0.181077\n",
       "Central Gas                               0.175985\n",
       "Central Electric, Heat Pump               0.145994\n",
       ", Heat Pump - Heat                        0.140901\n",
       "Central Air Conditioning                  0.111476\n",
       "Electric, Gas                             0.098744\n",
       "Forced air, Other                         0.091105\n",
       "Central, Gas                              0.089124\n",
       "Refrigeration                             0.071865\n",
       "Central, Electric, Heat Pump              0.067904\n",
       "Refrigeration, Ceiling Fan(s)             0.067338\n",
       "Oil                                       0.059982\n",
       "Central, Heat Pump                        0.058284\n",
       "Forced air, Stove                         0.057435\n",
       "Central Air, Central Heat                 0.055455\n",
       "Natural Gas                               0.053474\n",
       ", Gas Hot Air/Furnace, MultiZone Heat     0.052909\n",
       "Heat Pump(s)                              0.052909\n",
       "Central, Gas, Two or More Units           0.048665\n",
       "Electric, Heat Pump                       0.048099\n",
       "Central, Electric, Two or More Units      0.045835\n",
       "Baseboard, Forced air                     0.041874\n",
       "Central Electric, Central Gas             0.036781\n",
       "Name: fact_heating, dtype: float64"
      ]
     },
     "execution_count": 62,
     "metadata": {},
     "output_type": "execute_result"
    }
   ],
   "source": [
    "(df['fact_heating'].value_counts() / df.shape[0] * 100)[:50]"
   ]
  },
  {
   "cell_type": "code",
   "execution_count": 63,
   "metadata": {},
   "outputs": [],
   "source": [
    "heating_features = data_transform.get_heating_features_list()\n",
    "\n",
    "mask = ~df['fact_heating'].isna()\n",
    "\n",
    "for heat_feature in heating_features:\n",
    "    df[heat_feature] = 0\n",
    "    df.loc[mask, heat_feature] = df[mask]['fact_heating'].apply(lambda x: data_transform.get_heating_feature(x, heat_feature))"
   ]
  },
  {
   "cell_type": "code",
   "execution_count": 64,
   "metadata": {},
   "outputs": [],
   "source": [
    "df = df.drop('fact_heating', axis=1)"
   ]
  },
  {
   "attachments": {},
   "cell_type": "markdown",
   "metadata": {},
   "source": [
    "На основании поля *fact_heating* формируем группу бинарных признаков, описывающих систему отопления:\n",
    "\n",
    "* FORCED_AIR_HEAT\n",
    "* OTHER_HEAT\n",
    "* ELECTRIC\n",
    "* GAS\n",
    "* COOLING\n",
    "* AIR_HEAT\n",
    "* HEAT_PUMP\n",
    "* CENTRAL_HEAT\n",
    "* BASE_BOARD\n",
    "* WALL\n",
    "* ZONED\n",
    "* HEATING\n",
    "\n",
    "Эти признаки частично пересекаются с признаками, описывающими систему кондиционирования, так как эти две системы в доме зачастую связаны."
   ]
  },
  {
   "cell_type": "code",
   "execution_count": 65,
   "metadata": {},
   "outputs": [
    {
     "data": {
      "text/plain": [
       "Attached Garage                     19.364249\n",
       "2 spaces                             7.788592\n",
       "1 space                              3.919760\n",
       "Detached Garage                      3.569488\n",
       "No Data                              3.545439\n",
       "Carport                              2.127660\n",
       "3 spaces                             1.301494\n",
       "Off Street                           0.987721\n",
       "Carport, Attached Garage             0.818809\n",
       "1                                    0.805512\n",
       "4 spaces                             0.791931\n",
       "2                                    0.766467\n",
       "None                                 0.639147\n",
       "Off street                           0.448732\n",
       "On Street                            0.341501\n",
       "Attached Garage, Detached Garage     0.317734\n",
       "0                                    0.291987\n",
       "Attached Garage, Carport             0.265675\n",
       "Parking Desc                         0.250679\n",
       "6 spaces                             0.197770\n",
       "Driveway                             0.193809\n",
       "Detached Garage, Attached Garage     0.173438\n",
       "4                                    0.167214\n",
       "5 spaces                             0.166365\n",
       "On street                            0.127886\n",
       "Parking Type                         0.125622\n",
       "Off Street, Attached Garage          0.123359\n",
       "3                                    0.122227\n",
       "Off street parking                   0.120530\n",
       "Carport, Detached Garage             0.110627\n",
       "Attached Garage, Garage - 2 Car      0.109778\n",
       "Garage Type                          0.104120\n",
       "Parking YN                           0.101856\n",
       "Driveway, Garage Door Opener         0.095066\n",
       "Garage - 2 Car                       0.082617\n",
       "Garage Door Opener                   0.074129\n",
       "Attached Garage, Off Street          0.067621\n",
       "Attached - FRONT                     0.065075\n",
       "Slab Parking Spaces                  0.064509\n",
       "Detached Garage, Carport             0.059133\n",
       "888                                  0.059133\n",
       "Off Street, On Street                0.058284\n",
       "6                                    0.054889\n",
       "Off Street, Detached Garage          0.052343\n",
       "Garage-Attached                      0.051777\n",
       "8 spaces                             0.051494\n",
       "Electric Door Opener                 0.049230\n",
       "Attached - SIDE                      0.046684\n",
       "Attached                             0.043855\n",
       "On Street, Off Street                0.043006\n",
       "Name: fact_parking, dtype: float64"
      ]
     },
     "execution_count": 65,
     "metadata": {},
     "output_type": "execute_result"
    }
   ],
   "source": [
    "(df['fact_parking'].value_counts() / df.shape[0] * 100)[:50]"
   ]
  },
  {
   "cell_type": "code",
   "execution_count": 66,
   "metadata": {},
   "outputs": [],
   "source": [
    "parking_features = data_transform.get_parking_features_list()\n",
    "\n",
    "mask = ~df['fact_parking'].isna()\n",
    "\n",
    "for parking_feature in parking_features:\n",
    "    df[parking_feature] = 0\n",
    "    df.loc[mask, parking_feature] = df[mask]['fact_parking'].apply(lambda x: data_transform.get_parking_feature(x, parking_feature))"
   ]
  },
  {
   "cell_type": "code",
   "execution_count": 67,
   "metadata": {},
   "outputs": [],
   "source": [
    "df = df.drop('fact_parking', axis=1)"
   ]
  },
  {
   "attachments": {},
   "cell_type": "markdown",
   "metadata": {},
   "source": [
    "На основании поля *fact_parking* формируем группу бинарных признаков, описывающих парковку:\n",
    "\n",
    "* GARAGE\n",
    "* ATTACHED\n",
    "* DETACHED\n",
    "* CARPOPT\n",
    "* OFF_STREET\n",
    "* ON_STREET\n",
    "* PARKING\n",
    "* 1_PLACE\n",
    "* 2_PLACE\n",
    "* 3_PLACE\n",
    "* MORE_PLACES"
   ]
  },
  {
   "cell_type": "code",
   "execution_count": 68,
   "metadata": {},
   "outputs": [
    {
     "data": {
      "text/plain": [
       "street         0\n",
       "city           0\n",
       "zipcode        0\n",
       "state          0\n",
       "target         0\n",
       "              ..\n",
       "PARKING        0\n",
       "1_PLACE        0\n",
       "2_PLACE        0\n",
       "3_PLACE        0\n",
       "MORE_PLACES    0\n",
       "Length: 67, dtype: int64"
      ]
     },
     "execution_count": 68,
     "metadata": {},
     "output_type": "execute_result"
    }
   ],
   "source": [
    "df.isna().sum()"
   ]
  },
  {
   "cell_type": "code",
   "execution_count": 69,
   "metadata": {},
   "outputs": [
    {
     "data": {
      "text/plain": [
       "0"
      ]
     },
     "execution_count": 69,
     "metadata": {},
     "output_type": "execute_result"
    }
   ],
   "source": [
    "df.isna().sum().sum()"
   ]
  },
  {
   "attachments": {},
   "cell_type": "markdown",
   "metadata": {},
   "source": [
    "Пропуски в данных - отсутствуют."
   ]
  },
  {
   "cell_type": "code",
   "execution_count": 66,
   "metadata": {},
   "outputs": [],
   "source": [
    "#####################################################################################################################\n",
    "#####################################################################################################################\n",
    "#####################################################################################################################\n",
    "#####################################################################################################################"
   ]
  },
  {
   "attachments": {},
   "cell_type": "markdown",
   "metadata": {},
   "source": [
    "### Обучение базовой модели для оценки качества последующих улучшений модели"
   ]
  },
  {
   "cell_type": "code",
   "execution_count": 70,
   "metadata": {},
   "outputs": [],
   "source": [
    "df_base = df.copy()"
   ]
  },
  {
   "attachments": {},
   "cell_type": "markdown",
   "metadata": {},
   "source": [
    "Производим кодирование полей *state* и *city* (бинарным кодированием)"
   ]
  },
  {
   "cell_type": "code",
   "execution_count": 71,
   "metadata": {},
   "outputs": [],
   "source": [
    "df_base = data_transform.encode_state_and_city(df_base, '../shared_libs/data/top_cities_list.pkl', '../shared_libs/data/state_binary_encoder.pkl', '../shared_libs/data/city_binary_encoder.pkl')"
   ]
  },
  {
   "cell_type": "code",
   "execution_count": 72,
   "metadata": {},
   "outputs": [
    {
     "data": {
      "text/html": [
       "<div>\n",
       "<style scoped>\n",
       "    .dataframe tbody tr th:only-of-type {\n",
       "        vertical-align: middle;\n",
       "    }\n",
       "\n",
       "    .dataframe tbody tr th {\n",
       "        vertical-align: top;\n",
       "    }\n",
       "\n",
       "    .dataframe thead th {\n",
       "        text-align: right;\n",
       "    }\n",
       "</style>\n",
       "<table border=\"1\" class=\"dataframe\">\n",
       "  <thead>\n",
       "    <tr style=\"text-align: right;\">\n",
       "      <th></th>\n",
       "      <th>target</th>\n",
       "      <th>schools_count</th>\n",
       "      <th>schools_avg_rate</th>\n",
       "      <th>schools_min_distance</th>\n",
       "      <th>schools_avg_distance</th>\n",
       "      <th>schools_PK</th>\n",
       "      <th>schools_K</th>\n",
       "      <th>schools_M</th>\n",
       "      <th>schools_H</th>\n",
       "      <th>sqft_fl</th>\n",
       "      <th>...</th>\n",
       "      <th>state_1</th>\n",
       "      <th>state_2</th>\n",
       "      <th>state_3</th>\n",
       "      <th>state_4</th>\n",
       "      <th>state_5</th>\n",
       "      <th>city_0</th>\n",
       "      <th>city_1</th>\n",
       "      <th>city_2</th>\n",
       "      <th>city_3</th>\n",
       "      <th>city_4</th>\n",
       "    </tr>\n",
       "  </thead>\n",
       "  <tbody>\n",
       "    <tr>\n",
       "      <th>0</th>\n",
       "      <td>195000.0</td>\n",
       "      <td>3</td>\n",
       "      <td>2.666667</td>\n",
       "      <td>0.65</td>\n",
       "      <td>0.966667</td>\n",
       "      <td>0</td>\n",
       "      <td>1</td>\n",
       "      <td>1</td>\n",
       "      <td>1</td>\n",
       "      <td>1350.0</td>\n",
       "      <td>...</td>\n",
       "      <td>0</td>\n",
       "      <td>0</td>\n",
       "      <td>0</td>\n",
       "      <td>0</td>\n",
       "      <td>1</td>\n",
       "      <td>0</td>\n",
       "      <td>0</td>\n",
       "      <td>0</td>\n",
       "      <td>0</td>\n",
       "      <td>1</td>\n",
       "    </tr>\n",
       "    <tr>\n",
       "      <th>1</th>\n",
       "      <td>199000.0</td>\n",
       "      <td>3</td>\n",
       "      <td>4.666667</td>\n",
       "      <td>0.66</td>\n",
       "      <td>6.053333</td>\n",
       "      <td>1</td>\n",
       "      <td>1</td>\n",
       "      <td>1</td>\n",
       "      <td>1</td>\n",
       "      <td>1804.0</td>\n",
       "      <td>...</td>\n",
       "      <td>0</td>\n",
       "      <td>0</td>\n",
       "      <td>0</td>\n",
       "      <td>1</td>\n",
       "      <td>0</td>\n",
       "      <td>0</td>\n",
       "      <td>0</td>\n",
       "      <td>0</td>\n",
       "      <td>1</td>\n",
       "      <td>0</td>\n",
       "    </tr>\n",
       "    <tr>\n",
       "      <th>2</th>\n",
       "      <td>189900.0</td>\n",
       "      <td>2</td>\n",
       "      <td>6.500000</td>\n",
       "      <td>4.60</td>\n",
       "      <td>4.700000</td>\n",
       "      <td>0</td>\n",
       "      <td>1</td>\n",
       "      <td>1</td>\n",
       "      <td>1</td>\n",
       "      <td>0.0</td>\n",
       "      <td>...</td>\n",
       "      <td>0</td>\n",
       "      <td>0</td>\n",
       "      <td>0</td>\n",
       "      <td>1</td>\n",
       "      <td>1</td>\n",
       "      <td>0</td>\n",
       "      <td>0</td>\n",
       "      <td>0</td>\n",
       "      <td>1</td>\n",
       "      <td>0</td>\n",
       "    </tr>\n",
       "    <tr>\n",
       "      <th>3</th>\n",
       "      <td>189000.0</td>\n",
       "      <td>3</td>\n",
       "      <td>2.000000</td>\n",
       "      <td>0.10</td>\n",
       "      <td>0.233333</td>\n",
       "      <td>0</td>\n",
       "      <td>1</td>\n",
       "      <td>1</td>\n",
       "      <td>1</td>\n",
       "      <td>1617.0</td>\n",
       "      <td>...</td>\n",
       "      <td>0</td>\n",
       "      <td>0</td>\n",
       "      <td>0</td>\n",
       "      <td>0</td>\n",
       "      <td>1</td>\n",
       "      <td>0</td>\n",
       "      <td>0</td>\n",
       "      <td>0</td>\n",
       "      <td>1</td>\n",
       "      <td>0</td>\n",
       "    </tr>\n",
       "    <tr>\n",
       "      <th>4</th>\n",
       "      <td>579000.0</td>\n",
       "      <td>2</td>\n",
       "      <td>2.000000</td>\n",
       "      <td>0.44</td>\n",
       "      <td>1.200000</td>\n",
       "      <td>0</td>\n",
       "      <td>1</td>\n",
       "      <td>1</td>\n",
       "      <td>1</td>\n",
       "      <td>5013.0</td>\n",
       "      <td>...</td>\n",
       "      <td>0</td>\n",
       "      <td>0</td>\n",
       "      <td>0</td>\n",
       "      <td>0</td>\n",
       "      <td>1</td>\n",
       "      <td>0</td>\n",
       "      <td>0</td>\n",
       "      <td>0</td>\n",
       "      <td>0</td>\n",
       "      <td>1</td>\n",
       "    </tr>\n",
       "  </tbody>\n",
       "</table>\n",
       "<p>5 rows × 74 columns</p>\n",
       "</div>"
      ],
      "text/plain": [
       "     target  schools_count  schools_avg_rate  schools_min_distance  \\\n",
       "0  195000.0              3          2.666667                  0.65   \n",
       "1  199000.0              3          4.666667                  0.66   \n",
       "2  189900.0              2          6.500000                  4.60   \n",
       "3  189000.0              3          2.000000                  0.10   \n",
       "4  579000.0              2          2.000000                  0.44   \n",
       "\n",
       "   schools_avg_distance  schools_PK  schools_K  schools_M  schools_H  sqft_fl  \\\n",
       "0              0.966667           0          1          1          1   1350.0   \n",
       "1              6.053333           1          1          1          1   1804.0   \n",
       "2              4.700000           0          1          1          1      0.0   \n",
       "3              0.233333           0          1          1          1   1617.0   \n",
       "4              1.200000           0          1          1          1   5013.0   \n",
       "\n",
       "   ...  state_1  state_2  state_3  state_4  state_5  city_0  city_1  city_2  \\\n",
       "0  ...        0        0        0        0        1       0       0       0   \n",
       "1  ...        0        0        0        1        0       0       0       0   \n",
       "2  ...        0        0        0        1        1       0       0       0   \n",
       "3  ...        0        0        0        0        1       0       0       0   \n",
       "4  ...        0        0        0        0        1       0       0       0   \n",
       "\n",
       "   city_3  city_4  \n",
       "0       0       1  \n",
       "1       1       0  \n",
       "2       1       0  \n",
       "3       1       0  \n",
       "4       0       1  \n",
       "\n",
       "[5 rows x 74 columns]"
      ]
     },
     "execution_count": 72,
     "metadata": {},
     "output_type": "execute_result"
    }
   ],
   "source": [
    "df_base.head()"
   ]
  },
  {
   "cell_type": "code",
   "execution_count": 74,
   "metadata": {},
   "outputs": [],
   "source": [
    "y = df_base['target']\n",
    "X = df_base.drop(['target'], axis=1)"
   ]
  },
  {
   "cell_type": "code",
   "execution_count": 75,
   "metadata": {},
   "outputs": [],
   "source": [
    "X_train, X_test, y_train, y_test = train_test_split(X, y, test_size=0.25, random_state=42)"
   ]
  },
  {
   "attachments": {},
   "cell_type": "markdown",
   "metadata": {},
   "source": [
    "Наивное предсказание в виде медианы цены:"
   ]
  },
  {
   "cell_type": "code",
   "execution_count": 76,
   "metadata": {},
   "outputs": [
    {
     "name": "stdout",
     "output_type": "stream",
     "text": [
      "MAPE: 94.12617799671992\n",
      "RMSE: 656968.9518653067\n"
     ]
    }
   ],
   "source": [
    "y_pred_test = np.ones(y_test.shape[0]) * y_train.median()\n",
    "\n",
    "print('MAPE:', mean_absolute_percentage_error(y_test, y_pred_test)*100)\n",
    "print('RMSE:', mean_squared_error(y_test, y_pred_test)**0.5)"
   ]
  },
  {
   "attachments": {},
   "cell_type": "markdown",
   "metadata": {},
   "source": [
    "Линейная регрессия:"
   ]
  },
  {
   "cell_type": "code",
   "execution_count": 77,
   "metadata": {},
   "outputs": [
    {
     "name": "stdout",
     "output_type": "stream",
     "text": [
      "MAPE: 103.38419338403794\n",
      "RMSE: 489869.70842394343\n"
     ]
    }
   ],
   "source": [
    "model = LinearRegression()\n",
    "\n",
    "model.fit(X_train, y_train)\n",
    "\n",
    "y_pred_test = model.predict(X_test)\n",
    "\n",
    "print('MAPE:', mean_absolute_percentage_error(y_test, y_pred_test)*100)\n",
    "print('RMSE:', mean_squared_error(y_test, y_pred_test)**0.5)"
   ]
  },
  {
   "attachments": {},
   "cell_type": "markdown",
   "metadata": {},
   "source": [
    "Модель на основании случайного леса:"
   ]
  },
  {
   "cell_type": "code",
   "execution_count": 78,
   "metadata": {},
   "outputs": [
    {
     "name": "stdout",
     "output_type": "stream",
     "text": [
      "MAPE: 60.115183418860354\n",
      "RMSE: 362041.85708563327\n"
     ]
    }
   ],
   "source": [
    "model = RandomForestRegressor(\n",
    "    n_estimators=250,\n",
    "    max_depth=15,\n",
    "    random_state=42,\n",
    "    n_jobs=-1\n",
    ")\n",
    "\n",
    "model.fit(X_train, y_train)\n",
    "\n",
    "y_pred_test = model.predict(X_test)\n",
    "\n",
    "print('MAPE:', mean_absolute_percentage_error(y_test, y_pred_test)*100)\n",
    "print('RMSE:', mean_squared_error(y_test, y_pred_test)**0.5)"
   ]
  },
  {
   "attachments": {},
   "cell_type": "markdown",
   "metadata": {},
   "source": [
    "В качестве BaseLine возьмем результаты модели на базе случайного леса:\n",
    "\n",
    "**MAPE: 60%**\n",
    "\n",
    "**RMSE: 362042**"
   ]
  }
 ],
 "metadata": {
  "kernelspec": {
   "display_name": "Python 3",
   "language": "python",
   "name": "python3"
  },
  "language_info": {
   "codemirror_mode": {
    "name": "ipython",
    "version": 3
   },
   "file_extension": ".py",
   "mimetype": "text/x-python",
   "name": "python",
   "nbconvert_exporter": "python",
   "pygments_lexer": "ipython3",
   "version": "3.10.8"
  },
  "orig_nbformat": 4,
  "vscode": {
   "interpreter": {
    "hash": "95c87cf760e8e1f4f30ebfd2cb5d75dd1b69d1e869feb64cd48472c2633c7080"
   }
  }
 },
 "nbformat": 4,
 "nbformat_minor": 2
}
