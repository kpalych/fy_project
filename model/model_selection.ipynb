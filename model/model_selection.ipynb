{
 "cells": [
  {
   "cell_type": "code",
   "execution_count": 1,
   "metadata": {},
   "outputs": [],
   "source": [
    "import numpy as np\n",
    "import pandas as pd\n",
    "import json\n",
    "import pickle\n",
    "import category_encoders as ce\n",
    "from sklearn.model_selection import train_test_split\n",
    "from sklearn.metrics import mean_absolute_percentage_error\n",
    "from sklearn.metrics import mean_squared_error\n",
    "from sklearn.linear_model import LinearRegression\n",
    "from sklearn.ensemble import RandomForestRegressor\n",
    "from sklearn.ensemble import AdaBoostRegressor\n",
    "from sklearn.tree import DecisionTreeRegressor\n",
    "from sklearn.ensemble import GradientBoostingRegressor\n",
    "from sklearn.model_selection import GridSearchCV\n",
    "from xgboost import XGBRegressor\n",
    "from catboost import CatBoostRegressor\n",
    "\n",
    "from sklearn.decomposition import PCA\n",
    "from sklearn.preprocessing import MinMaxScaler\n",
    "from sklearn.preprocessing import StandardScaler"
   ]
  },
  {
   "cell_type": "code",
   "execution_count": 2,
   "metadata": {},
   "outputs": [],
   "source": [
    "import matplotlib.pyplot as plt\n",
    "import seaborn as sns\n",
    "%matplotlib inline\n",
    "\n",
    "plt.style.use('default')"
   ]
  },
  {
   "cell_type": "code",
   "execution_count": 3,
   "metadata": {},
   "outputs": [],
   "source": [
    "import sys, os\n",
    "sys.path.append(os.path.join(os.path.abspath(''), '..', 'shared_libs'))\n",
    "import data_transform"
   ]
  },
  {
   "cell_type": "code",
   "execution_count": 4,
   "metadata": {},
   "outputs": [
    {
     "data": {
      "text/html": [
       "<div>\n",
       "<style scoped>\n",
       "    .dataframe tbody tr th:only-of-type {\n",
       "        vertical-align: middle;\n",
       "    }\n",
       "\n",
       "    .dataframe tbody tr th {\n",
       "        vertical-align: top;\n",
       "    }\n",
       "\n",
       "    .dataframe thead th {\n",
       "        text-align: right;\n",
       "    }\n",
       "</style>\n",
       "<table border=\"1\" class=\"dataframe\">\n",
       "  <thead>\n",
       "    <tr style=\"text-align: right;\">\n",
       "      <th></th>\n",
       "      <th>status</th>\n",
       "      <th>private pool</th>\n",
       "      <th>propertyType</th>\n",
       "      <th>street</th>\n",
       "      <th>baths</th>\n",
       "      <th>homeFacts</th>\n",
       "      <th>fireplace</th>\n",
       "      <th>city</th>\n",
       "      <th>schools</th>\n",
       "      <th>sqft</th>\n",
       "      <th>zipcode</th>\n",
       "      <th>beds</th>\n",
       "      <th>state</th>\n",
       "      <th>stories</th>\n",
       "      <th>mls-id</th>\n",
       "      <th>PrivatePool</th>\n",
       "      <th>MlsId</th>\n",
       "      <th>target</th>\n",
       "    </tr>\n",
       "  </thead>\n",
       "  <tbody>\n",
       "    <tr>\n",
       "      <th>0</th>\n",
       "      <td>for sale</td>\n",
       "      <td>NaN</td>\n",
       "      <td>multi-family</td>\n",
       "      <td>803 Passmore St</td>\n",
       "      <td>2 Baths</td>\n",
       "      <td>{'atAGlanceFacts': [{'factValue': '1950', 'fac...</td>\n",
       "      <td>yes</td>\n",
       "      <td>Philadelphia</td>\n",
       "      <td>[{'rating': ['3/10', '2/10', '3/10'], 'data': ...</td>\n",
       "      <td>1,350 sqft</td>\n",
       "      <td>19111</td>\n",
       "      <td>3 Beds</td>\n",
       "      <td>PA</td>\n",
       "      <td>2.0</td>\n",
       "      <td>NaN</td>\n",
       "      <td>NaN</td>\n",
       "      <td>PAPH853202</td>\n",
       "      <td>195000.0</td>\n",
       "    </tr>\n",
       "    <tr>\n",
       "      <th>1</th>\n",
       "      <td>for sale</td>\n",
       "      <td>NaN</td>\n",
       "      <td>lot/land</td>\n",
       "      <td>3609 Summit Ave</td>\n",
       "      <td>NaN</td>\n",
       "      <td>{'atAGlanceFacts': [{'factValue': '', 'factLab...</td>\n",
       "      <td>NaN</td>\n",
       "      <td>Greensboro</td>\n",
       "      <td>[{'rating': ['5/10', '5/10', '4/10'], 'data': ...</td>\n",
       "      <td>NaN</td>\n",
       "      <td>27405</td>\n",
       "      <td>NaN</td>\n",
       "      <td>NC</td>\n",
       "      <td>NaN</td>\n",
       "      <td>NaN</td>\n",
       "      <td>NaN</td>\n",
       "      <td>930640</td>\n",
       "      <td>199000.0</td>\n",
       "    </tr>\n",
       "    <tr>\n",
       "      <th>2</th>\n",
       "      <td>Active</td>\n",
       "      <td>NaN</td>\n",
       "      <td>Land</td>\n",
       "      <td>4011 Valley Vista Dr</td>\n",
       "      <td>NaN</td>\n",
       "      <td>{'atAGlanceFacts': [{'factValue': '', 'factLab...</td>\n",
       "      <td>NaN</td>\n",
       "      <td>Lowell</td>\n",
       "      <td>[{'rating': ['7', '6'], 'data': {'Distance': [...</td>\n",
       "      <td>0</td>\n",
       "      <td>49331</td>\n",
       "      <td>NaN</td>\n",
       "      <td>MI</td>\n",
       "      <td>NaN</td>\n",
       "      <td>NaN</td>\n",
       "      <td>NaN</td>\n",
       "      <td>19058608</td>\n",
       "      <td>189900.0</td>\n",
       "    </tr>\n",
       "    <tr>\n",
       "      <th>3</th>\n",
       "      <td>For sale</td>\n",
       "      <td>NaN</td>\n",
       "      <td>Single Family</td>\n",
       "      <td>118 S 17th St</td>\n",
       "      <td>Bathrooms: 2</td>\n",
       "      <td>{'atAGlanceFacts': [{'factValue': '1909', 'fac...</td>\n",
       "      <td>NaN</td>\n",
       "      <td>Allentown</td>\n",
       "      <td>[{'rating': ['2/10', '2/10', '2/10'], 'data': ...</td>\n",
       "      <td>Total interior livable area: 1,617 sqft</td>\n",
       "      <td>18104</td>\n",
       "      <td>3 bd</td>\n",
       "      <td>PA</td>\n",
       "      <td>2.0</td>\n",
       "      <td>628531</td>\n",
       "      <td>NaN</td>\n",
       "      <td>NaN</td>\n",
       "      <td>189000.0</td>\n",
       "    </tr>\n",
       "    <tr>\n",
       "      <th>4</th>\n",
       "      <td>for sale</td>\n",
       "      <td>NaN</td>\n",
       "      <td>single-family home</td>\n",
       "      <td>6820 Quincy St</td>\n",
       "      <td>4 Baths</td>\n",
       "      <td>{'atAGlanceFacts': [{'factValue': '1925', 'fac...</td>\n",
       "      <td>yes</td>\n",
       "      <td>Philadelphia</td>\n",
       "      <td>[{'rating': ['3/10', '1/10'], 'data': {'Distan...</td>\n",
       "      <td>5,013 sqft</td>\n",
       "      <td>19119</td>\n",
       "      <td>6 Beds</td>\n",
       "      <td>PA</td>\n",
       "      <td>3.0</td>\n",
       "      <td>NaN</td>\n",
       "      <td>NaN</td>\n",
       "      <td>PAPH851112</td>\n",
       "      <td>579000.0</td>\n",
       "    </tr>\n",
       "  </tbody>\n",
       "</table>\n",
       "</div>"
      ],
      "text/plain": [
       "     status private pool        propertyType                street  \\\n",
       "0  for sale          NaN        multi-family       803 Passmore St   \n",
       "1  for sale          NaN            lot/land       3609 Summit Ave   \n",
       "2    Active          NaN                Land  4011 Valley Vista Dr   \n",
       "3  For sale          NaN       Single Family         118 S 17th St   \n",
       "4  for sale          NaN  single-family home        6820 Quincy St   \n",
       "\n",
       "          baths                                          homeFacts fireplace  \\\n",
       "0       2 Baths  {'atAGlanceFacts': [{'factValue': '1950', 'fac...       yes   \n",
       "1           NaN  {'atAGlanceFacts': [{'factValue': '', 'factLab...       NaN   \n",
       "2           NaN  {'atAGlanceFacts': [{'factValue': '', 'factLab...       NaN   \n",
       "3  Bathrooms: 2  {'atAGlanceFacts': [{'factValue': '1909', 'fac...       NaN   \n",
       "4       4 Baths  {'atAGlanceFacts': [{'factValue': '1925', 'fac...       yes   \n",
       "\n",
       "           city                                            schools  \\\n",
       "0  Philadelphia  [{'rating': ['3/10', '2/10', '3/10'], 'data': ...   \n",
       "1    Greensboro  [{'rating': ['5/10', '5/10', '4/10'], 'data': ...   \n",
       "2        Lowell  [{'rating': ['7', '6'], 'data': {'Distance': [...   \n",
       "3     Allentown  [{'rating': ['2/10', '2/10', '2/10'], 'data': ...   \n",
       "4  Philadelphia  [{'rating': ['3/10', '1/10'], 'data': {'Distan...   \n",
       "\n",
       "                                      sqft zipcode    beds state stories  \\\n",
       "0                               1,350 sqft   19111  3 Beds    PA     2.0   \n",
       "1                                      NaN   27405     NaN    NC     NaN   \n",
       "2                                        0   49331     NaN    MI     NaN   \n",
       "3  Total interior livable area: 1,617 sqft   18104    3 bd    PA     2.0   \n",
       "4                               5,013 sqft   19119  6 Beds    PA     3.0   \n",
       "\n",
       "   mls-id PrivatePool       MlsId    target  \n",
       "0     NaN         NaN  PAPH853202  195000.0  \n",
       "1     NaN         NaN      930640  199000.0  \n",
       "2     NaN         NaN    19058608  189900.0  \n",
       "3  628531         NaN         NaN  189000.0  \n",
       "4     NaN         NaN  PAPH851112  579000.0  "
      ]
     },
     "execution_count": 4,
     "metadata": {},
     "output_type": "execute_result"
    }
   ],
   "source": [
    "df = pd.read_csv('data/data_target_cleared.csv')\n",
    "df.head()"
   ]
  },
  {
   "cell_type": "code",
   "execution_count": 5,
   "metadata": {},
   "outputs": [],
   "source": [
    "df = data_transform.clear_data_base_line(\n",
    "    df, \n",
    "    '../shared_libs/data/default_values.pkl',\n",
    "    can_drop_rows=True, \n",
    "    force_rebuild_cached_data=True\n",
    ")"
   ]
  },
  {
   "cell_type": "code",
   "execution_count": 6,
   "metadata": {},
   "outputs": [],
   "source": [
    "cities_dict = data_transform.get_cities_dict('../shared_libs/data/cities_dict.pkl', force_read=True)\n",
    "address_dict = data_transform.get_addresses_dict('../shared_libs/data/address_dict.pkl', force_read=True)\n",
    "address_by_zip_dict = data_transform.get_address_by_zipcode_dict('../shared_libs/data/address_by_zip_dict.pkl', force_read=True)\n",
    "cities_clusters_dict = data_transform.get_citiess_clusters_dict('../shared_libs/data/cities_clusters_dict.pkl', force_read=True)"
   ]
  },
  {
   "cell_type": "code",
   "execution_count": 7,
   "metadata": {},
   "outputs": [],
   "source": [
    "df = data_transform.fix_incorrect_states_and_cities(\n",
    "    df, \n",
    "    '../shared_libs/data/default_values.pkl', \n",
    "    cities_dict, \n",
    "    can_drop_rows=True\n",
    ")"
   ]
  },
  {
   "cell_type": "code",
   "execution_count": 8,
   "metadata": {},
   "outputs": [],
   "source": [
    "df = data_transform.add_city_features(\n",
    "    df,\n",
    "    '../shared_libs/data/default_values.pkl', \n",
    "    cities_dict, \n",
    "    address_dict,\n",
    "    address_by_zip_dict,\n",
    "    cities_clusters_dict,\n",
    "    force_rebuild_cached_data=True\n",
    ")"
   ]
  },
  {
   "cell_type": "code",
   "execution_count": 9,
   "metadata": {},
   "outputs": [],
   "source": [
    "df = data_transform.add_population_features(\n",
    "    df, \n",
    "    '../shared_libs/data/default_values.pkl', \n",
    "    '../shared_libs/data/uscities.csv', \n",
    "    can_drop_rows=True,\n",
    "    force_rebuild_cached_data=True\n",
    ")"
   ]
  },
  {
   "cell_type": "code",
   "execution_count": 10,
   "metadata": {},
   "outputs": [],
   "source": [
    "df = data_transform.encode_state_and_city(\n",
    "    df, \n",
    "    '../shared_libs/data/default_values.pkl',\n",
    "    can_drop_rows=True, \n",
    "    force_rebuild_cached_data=True\n",
    ")"
   ]
  },
  {
   "cell_type": "code",
   "execution_count": 11,
   "metadata": {},
   "outputs": [],
   "source": [
    "df = data_transform.final_tune_pca_and_scale(\n",
    "    df, \n",
    "    '../shared_libs/data/default_values.pkl', \n",
    "    force_rebuild_cached_data=True\n",
    ")"
   ]
  },
  {
   "cell_type": "code",
   "execution_count": 12,
   "metadata": {},
   "outputs": [],
   "source": [
    "#####################################################################################################################\n",
    "#####################################################################################################################\n",
    "#####################################################################################################################\n",
    "#####################################################################################################################"
   ]
  },
  {
   "cell_type": "code",
   "execution_count": 13,
   "metadata": {},
   "outputs": [],
   "source": [
    "df_base = df.copy()"
   ]
  },
  {
   "cell_type": "code",
   "execution_count": 14,
   "metadata": {},
   "outputs": [],
   "source": [
    "y = df_base['target']\n",
    "X = df_base.drop(['target'], axis=1)"
   ]
  },
  {
   "cell_type": "code",
   "execution_count": 15,
   "metadata": {},
   "outputs": [],
   "source": [
    "X_train, X_test, y_train, y_test = train_test_split(X, y, test_size=0.15, random_state=42)"
   ]
  },
  {
   "cell_type": "code",
   "execution_count": 16,
   "metadata": {},
   "outputs": [
    {
     "name": "stdout",
     "output_type": "stream",
     "text": [
      "MAPE: 89.69147320782015\n",
      "RMSE: 446652.0059706066\n"
     ]
    }
   ],
   "source": [
    "model = LinearRegression()\n",
    "\n",
    "model.fit(X_train, y_train)\n",
    "\n",
    "y_pred_test = model.predict(X_test)\n",
    "\n",
    "print('MAPE:', mean_absolute_percentage_error(y_test, y_pred_test)*100)\n",
    "print('RMSE:', mean_squared_error(y_test, y_pred_test)**0.5)"
   ]
  },
  {
   "cell_type": "code",
   "execution_count": 17,
   "metadata": {},
   "outputs": [],
   "source": [
    "with open('../shared_libs/data/models/model_lr.pkl', 'wb') as f:\n",
    "    pickle.dump(model, f)"
   ]
  },
  {
   "cell_type": "code",
   "execution_count": 18,
   "metadata": {},
   "outputs": [
    {
     "name": "stdout",
     "output_type": "stream",
     "text": [
      "Train MAPE: 49.846199682951465\n",
      "Train RMSE: 246257.31453057274\n",
      "Test MAPE: 54.80158426129014\n",
      "Test RMSE: 325080.6969704045\n"
     ]
    }
   ],
   "source": [
    "model = RandomForestRegressor(\n",
    "    n_estimators=100,\n",
    "    max_depth=15,\n",
    "    random_state=42,\n",
    "    n_jobs=-1\n",
    ")\n",
    "\n",
    "model.fit(X_train, y_train)\n",
    "\n",
    "y_pred_test = model.predict(X_test)\n",
    "y_pred_train = model.predict(X_train)\n",
    "\n",
    "print('Train MAPE:', mean_absolute_percentage_error(y_train, y_pred_train)*100)\n",
    "print('Train RMSE:', mean_squared_error(y_train, y_pred_train)**0.5)\n",
    "print('Test MAPE:', mean_absolute_percentage_error(y_test, y_pred_test)*100)\n",
    "print('Test RMSE:', mean_squared_error(y_test, y_pred_test)**0.5)"
   ]
  },
  {
   "cell_type": "code",
   "execution_count": 19,
   "metadata": {},
   "outputs": [],
   "source": [
    "with open('../shared_libs/data/models/model_rfr.pkl', 'wb') as f:\n",
    "    pickle.dump(model, f)"
   ]
  },
  {
   "cell_type": "code",
   "execution_count": 20,
   "metadata": {},
   "outputs": [
    {
     "name": "stdout",
     "output_type": "stream",
     "text": [
      "Train MAPE: 15.160181354365495\n",
      "Train RMSE: 166241.58117034868\n",
      "Test MAPE: 30.176375171879172\n",
      "Test RMSE: 310733.2767712826\n"
     ]
    }
   ],
   "source": [
    "model = AdaBoostRegressor(\n",
    "    DecisionTreeRegressor(\n",
    "        min_samples_leaf=4, # 3\n",
    "        max_depth=27, # 28\n",
    "        random_state=42\n",
    "    ),\n",
    "    random_state=42,\n",
    "    learning_rate=0.0001, # 0.01\n",
    "    n_estimators=100 #\n",
    ")\n",
    "\n",
    "model.fit(X_train, y_train)\n",
    "\n",
    "y_pred_test = model.predict(X_test)\n",
    "y_pred_train = model.predict(X_train)\n",
    "\n",
    "print('Train MAPE:', mean_absolute_percentage_error(y_train, y_pred_train)*100)\n",
    "print('Train RMSE:', mean_squared_error(y_train, y_pred_train)**0.5)\n",
    "print('Test MAPE:', mean_absolute_percentage_error(y_test, y_pred_test)*100)\n",
    "print('Test RMSE:', mean_squared_error(y_test, y_pred_test)**0.5)"
   ]
  },
  {
   "cell_type": "code",
   "execution_count": 21,
   "metadata": {},
   "outputs": [],
   "source": [
    "with open('../shared_libs/data/models/model_abr.pkl', 'wb') as f:\n",
    "    pickle.dump(model, f)"
   ]
  }
 ],
 "metadata": {
  "kernelspec": {
   "display_name": "Python 3",
   "language": "python",
   "name": "python3"
  },
  "language_info": {
   "codemirror_mode": {
    "name": "ipython",
    "version": 3
   },
   "file_extension": ".py",
   "mimetype": "text/x-python",
   "name": "python",
   "nbconvert_exporter": "python",
   "pygments_lexer": "ipython3",
   "version": "3.10.8"
  },
  "orig_nbformat": 4
 },
 "nbformat": 4,
 "nbformat_minor": 2
}
