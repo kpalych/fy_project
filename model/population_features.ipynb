{
 "cells": [
  {
   "cell_type": "code",
   "execution_count": 1,
   "metadata": {},
   "outputs": [],
   "source": [
    "import numpy as np\n",
    "import pandas as pd\n",
    "import json\n",
    "import pickle\n",
    "import category_encoders as ce\n",
    "\n",
    "from sklearn.decomposition import PCA\n",
    "from sklearn.preprocessing import MinMaxScaler\n",
    "from sklearn.preprocessing import StandardScaler"
   ]
  },
  {
   "cell_type": "code",
   "execution_count": 2,
   "metadata": {},
   "outputs": [],
   "source": [
    "import matplotlib.pyplot as plt\n",
    "import seaborn as sns\n",
    "%matplotlib inline\n",
    "\n",
    "plt.style.use('default')"
   ]
  },
  {
   "cell_type": "code",
   "execution_count": 3,
   "metadata": {},
   "outputs": [],
   "source": [
    "import sys, os\n",
    "sys.path.append(os.path.join(os.path.abspath(''), '..', 'shared_libs'))\n",
    "import data_transform"
   ]
  },
  {
   "cell_type": "code",
   "execution_count": 4,
   "metadata": {},
   "outputs": [
    {
     "data": {
      "text/html": [
       "<div>\n",
       "<style scoped>\n",
       "    .dataframe tbody tr th:only-of-type {\n",
       "        vertical-align: middle;\n",
       "    }\n",
       "\n",
       "    .dataframe tbody tr th {\n",
       "        vertical-align: top;\n",
       "    }\n",
       "\n",
       "    .dataframe thead th {\n",
       "        text-align: right;\n",
       "    }\n",
       "</style>\n",
       "<table border=\"1\" class=\"dataframe\">\n",
       "  <thead>\n",
       "    <tr style=\"text-align: right;\">\n",
       "      <th></th>\n",
       "      <th>status</th>\n",
       "      <th>private pool</th>\n",
       "      <th>propertyType</th>\n",
       "      <th>street</th>\n",
       "      <th>baths</th>\n",
       "      <th>homeFacts</th>\n",
       "      <th>fireplace</th>\n",
       "      <th>city</th>\n",
       "      <th>schools</th>\n",
       "      <th>sqft</th>\n",
       "      <th>zipcode</th>\n",
       "      <th>beds</th>\n",
       "      <th>state</th>\n",
       "      <th>stories</th>\n",
       "      <th>mls-id</th>\n",
       "      <th>PrivatePool</th>\n",
       "      <th>MlsId</th>\n",
       "      <th>target</th>\n",
       "    </tr>\n",
       "  </thead>\n",
       "  <tbody>\n",
       "    <tr>\n",
       "      <th>0</th>\n",
       "      <td>for sale</td>\n",
       "      <td>NaN</td>\n",
       "      <td>multi-family</td>\n",
       "      <td>803 Passmore St</td>\n",
       "      <td>2 Baths</td>\n",
       "      <td>{'atAGlanceFacts': [{'factValue': '1950', 'fac...</td>\n",
       "      <td>yes</td>\n",
       "      <td>Philadelphia</td>\n",
       "      <td>[{'rating': ['3/10', '2/10', '3/10'], 'data': ...</td>\n",
       "      <td>1,350 sqft</td>\n",
       "      <td>19111</td>\n",
       "      <td>3 Beds</td>\n",
       "      <td>PA</td>\n",
       "      <td>2.0</td>\n",
       "      <td>NaN</td>\n",
       "      <td>NaN</td>\n",
       "      <td>PAPH853202</td>\n",
       "      <td>195000.0</td>\n",
       "    </tr>\n",
       "    <tr>\n",
       "      <th>1</th>\n",
       "      <td>for sale</td>\n",
       "      <td>NaN</td>\n",
       "      <td>lot/land</td>\n",
       "      <td>3609 Summit Ave</td>\n",
       "      <td>NaN</td>\n",
       "      <td>{'atAGlanceFacts': [{'factValue': '', 'factLab...</td>\n",
       "      <td>NaN</td>\n",
       "      <td>Greensboro</td>\n",
       "      <td>[{'rating': ['5/10', '5/10', '4/10'], 'data': ...</td>\n",
       "      <td>NaN</td>\n",
       "      <td>27405</td>\n",
       "      <td>NaN</td>\n",
       "      <td>NC</td>\n",
       "      <td>NaN</td>\n",
       "      <td>NaN</td>\n",
       "      <td>NaN</td>\n",
       "      <td>930640</td>\n",
       "      <td>199000.0</td>\n",
       "    </tr>\n",
       "    <tr>\n",
       "      <th>2</th>\n",
       "      <td>Active</td>\n",
       "      <td>NaN</td>\n",
       "      <td>Land</td>\n",
       "      <td>4011 Valley Vista Dr</td>\n",
       "      <td>NaN</td>\n",
       "      <td>{'atAGlanceFacts': [{'factValue': '', 'factLab...</td>\n",
       "      <td>NaN</td>\n",
       "      <td>Lowell</td>\n",
       "      <td>[{'rating': ['7', '6'], 'data': {'Distance': [...</td>\n",
       "      <td>0</td>\n",
       "      <td>49331</td>\n",
       "      <td>NaN</td>\n",
       "      <td>MI</td>\n",
       "      <td>NaN</td>\n",
       "      <td>NaN</td>\n",
       "      <td>NaN</td>\n",
       "      <td>19058608</td>\n",
       "      <td>189900.0</td>\n",
       "    </tr>\n",
       "    <tr>\n",
       "      <th>3</th>\n",
       "      <td>For sale</td>\n",
       "      <td>NaN</td>\n",
       "      <td>Single Family</td>\n",
       "      <td>118 S 17th St</td>\n",
       "      <td>Bathrooms: 2</td>\n",
       "      <td>{'atAGlanceFacts': [{'factValue': '1909', 'fac...</td>\n",
       "      <td>NaN</td>\n",
       "      <td>Allentown</td>\n",
       "      <td>[{'rating': ['2/10', '2/10', '2/10'], 'data': ...</td>\n",
       "      <td>Total interior livable area: 1,617 sqft</td>\n",
       "      <td>18104</td>\n",
       "      <td>3 bd</td>\n",
       "      <td>PA</td>\n",
       "      <td>2.0</td>\n",
       "      <td>628531</td>\n",
       "      <td>NaN</td>\n",
       "      <td>NaN</td>\n",
       "      <td>189000.0</td>\n",
       "    </tr>\n",
       "    <tr>\n",
       "      <th>4</th>\n",
       "      <td>for sale</td>\n",
       "      <td>NaN</td>\n",
       "      <td>single-family home</td>\n",
       "      <td>6820 Quincy St</td>\n",
       "      <td>4 Baths</td>\n",
       "      <td>{'atAGlanceFacts': [{'factValue': '1925', 'fac...</td>\n",
       "      <td>yes</td>\n",
       "      <td>Philadelphia</td>\n",
       "      <td>[{'rating': ['3/10', '1/10'], 'data': {'Distan...</td>\n",
       "      <td>5,013 sqft</td>\n",
       "      <td>19119</td>\n",
       "      <td>6 Beds</td>\n",
       "      <td>PA</td>\n",
       "      <td>3.0</td>\n",
       "      <td>NaN</td>\n",
       "      <td>NaN</td>\n",
       "      <td>PAPH851112</td>\n",
       "      <td>579000.0</td>\n",
       "    </tr>\n",
       "  </tbody>\n",
       "</table>\n",
       "</div>"
      ],
      "text/plain": [
       "     status private pool        propertyType                street  \\\n",
       "0  for sale          NaN        multi-family       803 Passmore St   \n",
       "1  for sale          NaN            lot/land       3609 Summit Ave   \n",
       "2    Active          NaN                Land  4011 Valley Vista Dr   \n",
       "3  For sale          NaN       Single Family         118 S 17th St   \n",
       "4  for sale          NaN  single-family home        6820 Quincy St   \n",
       "\n",
       "          baths                                          homeFacts fireplace  \\\n",
       "0       2 Baths  {'atAGlanceFacts': [{'factValue': '1950', 'fac...       yes   \n",
       "1           NaN  {'atAGlanceFacts': [{'factValue': '', 'factLab...       NaN   \n",
       "2           NaN  {'atAGlanceFacts': [{'factValue': '', 'factLab...       NaN   \n",
       "3  Bathrooms: 2  {'atAGlanceFacts': [{'factValue': '1909', 'fac...       NaN   \n",
       "4       4 Baths  {'atAGlanceFacts': [{'factValue': '1925', 'fac...       yes   \n",
       "\n",
       "           city                                            schools  \\\n",
       "0  Philadelphia  [{'rating': ['3/10', '2/10', '3/10'], 'data': ...   \n",
       "1    Greensboro  [{'rating': ['5/10', '5/10', '4/10'], 'data': ...   \n",
       "2        Lowell  [{'rating': ['7', '6'], 'data': {'Distance': [...   \n",
       "3     Allentown  [{'rating': ['2/10', '2/10', '2/10'], 'data': ...   \n",
       "4  Philadelphia  [{'rating': ['3/10', '1/10'], 'data': {'Distan...   \n",
       "\n",
       "                                      sqft zipcode    beds state stories  \\\n",
       "0                               1,350 sqft   19111  3 Beds    PA     2.0   \n",
       "1                                      NaN   27405     NaN    NC     NaN   \n",
       "2                                        0   49331     NaN    MI     NaN   \n",
       "3  Total interior livable area: 1,617 sqft   18104    3 bd    PA     2.0   \n",
       "4                               5,013 sqft   19119  6 Beds    PA     3.0   \n",
       "\n",
       "   mls-id PrivatePool       MlsId    target  \n",
       "0     NaN         NaN  PAPH853202  195000.0  \n",
       "1     NaN         NaN      930640  199000.0  \n",
       "2     NaN         NaN    19058608  189900.0  \n",
       "3  628531         NaN         NaN  189000.0  \n",
       "4     NaN         NaN  PAPH851112  579000.0  "
      ]
     },
     "execution_count": 4,
     "metadata": {},
     "output_type": "execute_result"
    }
   ],
   "source": [
    "df = pd.read_csv('data/data_target_cleared.csv')\n",
    "df.head()"
   ]
  },
  {
   "cell_type": "code",
   "execution_count": 5,
   "metadata": {},
   "outputs": [],
   "source": [
    "df = data_transform.clear_data_base_line(\n",
    "    df, \n",
    "    '../shared_libs/data/default_values.pkl',\n",
    "    can_drop_rows=True, \n",
    "    force_rebuild_cached_data=True\n",
    ")"
   ]
  },
  {
   "attachments": {},
   "cell_type": "markdown",
   "metadata": {},
   "source": [
    "Считываем статистические данные о населении в городах США ([источник](https://www.kaggle.com/datasets/sergejnuss/united-states-cities-database))"
   ]
  },
  {
   "cell_type": "code",
   "execution_count": 6,
   "metadata": {},
   "outputs": [
    {
     "data": {
      "text/html": [
       "<div>\n",
       "<style scoped>\n",
       "    .dataframe tbody tr th:only-of-type {\n",
       "        vertical-align: middle;\n",
       "    }\n",
       "\n",
       "    .dataframe tbody tr th {\n",
       "        vertical-align: top;\n",
       "    }\n",
       "\n",
       "    .dataframe thead th {\n",
       "        text-align: right;\n",
       "    }\n",
       "</style>\n",
       "<table border=\"1\" class=\"dataframe\">\n",
       "  <thead>\n",
       "    <tr style=\"text-align: right;\">\n",
       "      <th></th>\n",
       "      <th>city</th>\n",
       "      <th>city_ascii</th>\n",
       "      <th>state_id</th>\n",
       "      <th>state_name</th>\n",
       "      <th>county_fips</th>\n",
       "      <th>county_name</th>\n",
       "      <th>lat</th>\n",
       "      <th>lng</th>\n",
       "      <th>population</th>\n",
       "      <th>density</th>\n",
       "      <th>source</th>\n",
       "      <th>military</th>\n",
       "      <th>incorporated</th>\n",
       "      <th>timezone</th>\n",
       "      <th>ranking</th>\n",
       "      <th>zips</th>\n",
       "      <th>id</th>\n",
       "    </tr>\n",
       "  </thead>\n",
       "  <tbody>\n",
       "    <tr>\n",
       "      <th>0</th>\n",
       "      <td>New York</td>\n",
       "      <td>New York</td>\n",
       "      <td>NY</td>\n",
       "      <td>New York</td>\n",
       "      <td>36081</td>\n",
       "      <td>Queens</td>\n",
       "      <td>40.6943</td>\n",
       "      <td>-73.9249</td>\n",
       "      <td>18972871</td>\n",
       "      <td>10768.2</td>\n",
       "      <td>shape</td>\n",
       "      <td>False</td>\n",
       "      <td>True</td>\n",
       "      <td>America/New_York</td>\n",
       "      <td>1</td>\n",
       "      <td>11229 11226 11225 11224 11223 11221 11220 1138...</td>\n",
       "      <td>1840034016</td>\n",
       "    </tr>\n",
       "    <tr>\n",
       "      <th>1</th>\n",
       "      <td>Los Angeles</td>\n",
       "      <td>Los Angeles</td>\n",
       "      <td>CA</td>\n",
       "      <td>California</td>\n",
       "      <td>6037</td>\n",
       "      <td>Los Angeles</td>\n",
       "      <td>34.1141</td>\n",
       "      <td>-118.4068</td>\n",
       "      <td>12121244</td>\n",
       "      <td>3267.6</td>\n",
       "      <td>shape</td>\n",
       "      <td>False</td>\n",
       "      <td>True</td>\n",
       "      <td>America/Los_Angeles</td>\n",
       "      <td>1</td>\n",
       "      <td>90291 90293 90292 91316 91311 90035 90034 9003...</td>\n",
       "      <td>1840020491</td>\n",
       "    </tr>\n",
       "    <tr>\n",
       "      <th>2</th>\n",
       "      <td>Chicago</td>\n",
       "      <td>Chicago</td>\n",
       "      <td>IL</td>\n",
       "      <td>Illinois</td>\n",
       "      <td>17031</td>\n",
       "      <td>Cook</td>\n",
       "      <td>41.8375</td>\n",
       "      <td>-87.6866</td>\n",
       "      <td>8595181</td>\n",
       "      <td>4576.6</td>\n",
       "      <td>shape</td>\n",
       "      <td>False</td>\n",
       "      <td>True</td>\n",
       "      <td>America/Chicago</td>\n",
       "      <td>1</td>\n",
       "      <td>60018 60649 60641 60640 60643 60642 60645 6064...</td>\n",
       "      <td>1840000494</td>\n",
       "    </tr>\n",
       "    <tr>\n",
       "      <th>3</th>\n",
       "      <td>Miami</td>\n",
       "      <td>Miami</td>\n",
       "      <td>FL</td>\n",
       "      <td>Florida</td>\n",
       "      <td>12086</td>\n",
       "      <td>Miami-Dade</td>\n",
       "      <td>25.7840</td>\n",
       "      <td>-80.2101</td>\n",
       "      <td>5711945</td>\n",
       "      <td>4945.7</td>\n",
       "      <td>shape</td>\n",
       "      <td>False</td>\n",
       "      <td>True</td>\n",
       "      <td>America/New_York</td>\n",
       "      <td>1</td>\n",
       "      <td>33128 33129 33125 33126 33127 33149 33144 3314...</td>\n",
       "      <td>1840015149</td>\n",
       "    </tr>\n",
       "    <tr>\n",
       "      <th>4</th>\n",
       "      <td>Dallas</td>\n",
       "      <td>Dallas</td>\n",
       "      <td>TX</td>\n",
       "      <td>Texas</td>\n",
       "      <td>48113</td>\n",
       "      <td>Dallas</td>\n",
       "      <td>32.7935</td>\n",
       "      <td>-96.7667</td>\n",
       "      <td>5668165</td>\n",
       "      <td>1522.2</td>\n",
       "      <td>shape</td>\n",
       "      <td>False</td>\n",
       "      <td>True</td>\n",
       "      <td>America/Chicago</td>\n",
       "      <td>1</td>\n",
       "      <td>75287 75098 75234 75254 75251 75252 75253 7503...</td>\n",
       "      <td>1840019440</td>\n",
       "    </tr>\n",
       "  </tbody>\n",
       "</table>\n",
       "</div>"
      ],
      "text/plain": [
       "          city   city_ascii state_id  state_name  county_fips  county_name  \\\n",
       "0     New York     New York       NY    New York        36081       Queens   \n",
       "1  Los Angeles  Los Angeles       CA  California         6037  Los Angeles   \n",
       "2      Chicago      Chicago       IL    Illinois        17031         Cook   \n",
       "3        Miami        Miami       FL     Florida        12086   Miami-Dade   \n",
       "4       Dallas       Dallas       TX       Texas        48113       Dallas   \n",
       "\n",
       "       lat       lng  population  density source  military  incorporated  \\\n",
       "0  40.6943  -73.9249    18972871  10768.2  shape     False          True   \n",
       "1  34.1141 -118.4068    12121244   3267.6  shape     False          True   \n",
       "2  41.8375  -87.6866     8595181   4576.6  shape     False          True   \n",
       "3  25.7840  -80.2101     5711945   4945.7  shape     False          True   \n",
       "4  32.7935  -96.7667     5668165   1522.2  shape     False          True   \n",
       "\n",
       "              timezone  ranking  \\\n",
       "0     America/New_York        1   \n",
       "1  America/Los_Angeles        1   \n",
       "2      America/Chicago        1   \n",
       "3     America/New_York        1   \n",
       "4      America/Chicago        1   \n",
       "\n",
       "                                                zips          id  \n",
       "0  11229 11226 11225 11224 11223 11221 11220 1138...  1840034016  \n",
       "1  90291 90293 90292 91316 91311 90035 90034 9003...  1840020491  \n",
       "2  60018 60649 60641 60640 60643 60642 60645 6064...  1840000494  \n",
       "3  33128 33129 33125 33126 33127 33149 33144 3314...  1840015149  \n",
       "4  75287 75098 75234 75254 75251 75252 75253 7503...  1840019440  "
      ]
     },
     "execution_count": 6,
     "metadata": {},
     "output_type": "execute_result"
    }
   ],
   "source": [
    "df_us_pop = pd.read_csv('data/uscities.csv')\n",
    "df_us_pop.head(5)"
   ]
  },
  {
   "cell_type": "code",
   "execution_count": 7,
   "metadata": {},
   "outputs": [],
   "source": [
    "df_us_pop['city'] = df_us_pop['city'].apply(lambda x: str.lower(x))"
   ]
  },
  {
   "cell_type": "code",
   "execution_count": 8,
   "metadata": {},
   "outputs": [],
   "source": [
    "df_us_pop = df_us_pop[['state_id', 'city', 'population', 'density']]\n",
    "df_us_pop.drop_duplicates(inplace=True)"
   ]
  },
  {
   "cell_type": "code",
   "execution_count": 9,
   "metadata": {},
   "outputs": [],
   "source": [
    "df_us_pop = df_us_pop.groupby(['state_id', 'city']).agg({'population': 'median', 'density': 'median'}).reset_index()"
   ]
  },
  {
   "cell_type": "code",
   "execution_count": 10,
   "metadata": {},
   "outputs": [],
   "source": [
    "df_pop = pd.merge(\n",
    "    df,\n",
    "    df_us_pop,\n",
    "    left_on=['state', 'city'],\n",
    "    right_on=['state_id', 'city'],\n",
    "    how='left'\n",
    ").drop(['state_id'], axis=1)"
   ]
  },
  {
   "cell_type": "code",
   "execution_count": 11,
   "metadata": {},
   "outputs": [],
   "source": [
    "df = df_pop.copy()"
   ]
  },
  {
   "attachments": {},
   "cell_type": "markdown",
   "metadata": {},
   "source": [
    "Объединяем данные из датасета о статистике городов США с нашим дата сетом (ключ пересечения *state, city*)"
   ]
  },
  {
   "cell_type": "code",
   "execution_count": 12,
   "metadata": {},
   "outputs": [],
   "source": [
    "not_found_cities = (df[df['population'].isna()][['state', 'city']].value_counts()/df.shape[0]*100).index"
   ]
  },
  {
   "cell_type": "code",
   "execution_count": 13,
   "metadata": {},
   "outputs": [
    {
     "data": {
      "text/plain": [
       "MultiIndex([('FL',    'saint petersburg'),\n",
       "            ('NY',            'flushing'),\n",
       "            ('FL',       'st petersburg'),\n",
       "            ('NY',             'jamaica'),\n",
       "            ('NC',       'winston salem'),\n",
       "            ('FL',    'port saint lucie'),\n",
       "            ('FL',         'saint johns'),\n",
       "            ('MO',         'saint louis'),\n",
       "            ('TN',             'antioch'),\n",
       "            ('NJ',            'lakewood'),\n",
       "            ...\n",
       "            ('PA',          'mt lebanon'),\n",
       "            ('PA',         'new hanover'),\n",
       "            ('MA',      'indian orchard'),\n",
       "            ('MA',       'cherry valley'),\n",
       "            ('TN',           'arrington'),\n",
       "            ('TN',            'bellevue'),\n",
       "            ('TN',       'college grove'),\n",
       "            ('MA', 'boston (dorchester)'),\n",
       "            ('TN',            'corryton'),\n",
       "            ('AL',              'bryant')],\n",
       "           names=['state', 'city'], length=621)"
      ]
     },
     "execution_count": 13,
     "metadata": {},
     "output_type": "execute_result"
    }
   ],
   "source": [
    "not_found_cities"
   ]
  },
  {
   "attachments": {},
   "cell_type": "markdown",
   "metadata": {},
   "source": [
    "Для городов не найденных во внешних данных, заполняем пропуски медианными значениями."
   ]
  },
  {
   "cell_type": "code",
   "execution_count": null,
   "metadata": {},
   "outputs": [],
   "source": [
    "state_medians = df[~df['population'].isna()].groupby('state').agg({'population': 'median', 'density': 'median'})"
   ]
  },
  {
   "cell_type": "code",
   "execution_count": null,
   "metadata": {},
   "outputs": [],
   "source": [
    "mask = df['population'].isna()\n",
    "df.loc[mask, 'population'] = df[mask]['state'].apply(lambda x: np.NaN if x not in state_medians.index else state_medians.loc[x, 'population'])"
   ]
  },
  {
   "cell_type": "code",
   "execution_count": null,
   "metadata": {},
   "outputs": [],
   "source": [
    "mask = df['density'].isna()\n",
    "df.loc[mask, 'density'] = df[mask]['state'].apply(lambda x: np.NaN if x not in state_medians.index else state_medians.loc[x, 'density'])"
   ]
  },
  {
   "cell_type": "code",
   "execution_count": null,
   "metadata": {},
   "outputs": [],
   "source": [
    "df = df[~df['population'].isna()].copy()"
   ]
  },
  {
   "attachments": {},
   "cell_type": "markdown",
   "metadata": {},
   "source": [
    "Преобразуем числовые поля *population* и *density* в категориальные (линейным разбиением диапазона на равные отрезки и выбором номера отрезка, в который попадпет значение)."
   ]
  },
  {
   "cell_type": "code",
   "execution_count": null,
   "metadata": {},
   "outputs": [],
   "source": [
    "min_val = df['population'].min()\n",
    "max_val = df['population'].max()\n",
    "n_cats = 15\n",
    "df['population_cat'] = 0\n",
    "df['population_cat'] = df['population'].apply(lambda x: data_transform.convert_to_ord_cat(x, min_val, max_val, n_cats))"
   ]
  },
  {
   "cell_type": "code",
   "execution_count": null,
   "metadata": {},
   "outputs": [],
   "source": [
    "min_val = df['density'].min()\n",
    "max_val = df['density'].max()\n",
    "n_cats = 15\n",
    "df['density_cat'] = 0\n",
    "df['density_cat'] = df['density'].apply(lambda x: data_transform.convert_to_ord_cat(x, min_val, max_val, n_cats))"
   ]
  },
  {
   "cell_type": "code",
   "execution_count": null,
   "metadata": {},
   "outputs": [],
   "source": [
    "df = df.drop(['population', 'density'], axis=1)"
   ]
  },
  {
   "cell_type": "code",
   "execution_count": null,
   "metadata": {},
   "outputs": [],
   "source": [
    "bin_encoder = ce.BinaryEncoder(cols=['population_cat'])\n",
    "type_bin = bin_encoder.fit_transform(df['population_cat'])\n",
    "df = pd.concat([df, type_bin], axis=1).drop('population_cat', axis=1)\n",
    "\n",
    "bin_encoder = ce.BinaryEncoder(cols=['density_cat'])\n",
    "type_bin = bin_encoder.fit_transform(df['density_cat'])\n",
    "df = pd.concat([df, type_bin], axis=1).drop('density_cat', axis=1)"
   ]
  },
  {
   "attachments": {},
   "cell_type": "markdown",
   "metadata": {},
   "source": [
    "Полученные категориальные признаки (*population_cat* и *density_cat*) кодируем, используя BinaryEncoder."
   ]
  }
 ],
 "metadata": {
  "kernelspec": {
   "display_name": "Python 3",
   "language": "python",
   "name": "python3"
  },
  "language_info": {
   "codemirror_mode": {
    "name": "ipython",
    "version": 3
   },
   "file_extension": ".py",
   "mimetype": "text/x-python",
   "name": "python",
   "nbconvert_exporter": "python",
   "pygments_lexer": "ipython3",
   "version": "3.10.8"
  },
  "orig_nbformat": 4,
  "vscode": {
   "interpreter": {
    "hash": "95c87cf760e8e1f4f30ebfd2cb5d75dd1b69d1e869feb64cd48472c2633c7080"
   }
  }
 },
 "nbformat": 4,
 "nbformat_minor": 2
}
