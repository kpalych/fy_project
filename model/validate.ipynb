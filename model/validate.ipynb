{
 "cells": [
  {
   "cell_type": "code",
   "execution_count": 15,
   "metadata": {},
   "outputs": [],
   "source": [
    "import numpy as np\n",
    "import pandas as pd\n",
    "import json\n",
    "import pickle\n",
    "\n",
    "from sklearn.metrics import mean_absolute_percentage_error\n",
    "from sklearn.metrics import mean_squared_error"
   ]
  },
  {
   "cell_type": "code",
   "execution_count": 16,
   "metadata": {},
   "outputs": [],
   "source": [
    "import sys, os\n",
    "sys.path.append(os.path.join(os.path.abspath(''), '..', 'shared_libs'))\n",
    "import data_transform"
   ]
  },
  {
   "cell_type": "code",
   "execution_count": 17,
   "metadata": {},
   "outputs": [
    {
     "data": {
      "text/html": [
       "<div>\n",
       "<style scoped>\n",
       "    .dataframe tbody tr th:only-of-type {\n",
       "        vertical-align: middle;\n",
       "    }\n",
       "\n",
       "    .dataframe tbody tr th {\n",
       "        vertical-align: top;\n",
       "    }\n",
       "\n",
       "    .dataframe thead th {\n",
       "        text-align: right;\n",
       "    }\n",
       "</style>\n",
       "<table border=\"1\" class=\"dataframe\">\n",
       "  <thead>\n",
       "    <tr style=\"text-align: right;\">\n",
       "      <th></th>\n",
       "      <th>status</th>\n",
       "      <th>private pool</th>\n",
       "      <th>propertyType</th>\n",
       "      <th>street</th>\n",
       "      <th>baths</th>\n",
       "      <th>homeFacts</th>\n",
       "      <th>fireplace</th>\n",
       "      <th>city</th>\n",
       "      <th>schools</th>\n",
       "      <th>sqft</th>\n",
       "      <th>zipcode</th>\n",
       "      <th>beds</th>\n",
       "      <th>state</th>\n",
       "      <th>stories</th>\n",
       "      <th>mls-id</th>\n",
       "      <th>PrivatePool</th>\n",
       "      <th>MlsId</th>\n",
       "    </tr>\n",
       "  </thead>\n",
       "  <tbody>\n",
       "    <tr>\n",
       "      <th>0</th>\n",
       "      <td>For sale</td>\n",
       "      <td>NaN</td>\n",
       "      <td>Single Family</td>\n",
       "      <td>6232 Wellington Pl</td>\n",
       "      <td>3 ba</td>\n",
       "      <td>{'atAGlanceFacts': [{'factValue': '1994', 'fac...</td>\n",
       "      <td>NaN</td>\n",
       "      <td>Dayton</td>\n",
       "      <td>[{'rating': ['4/10', '4/10', '3/10'], 'data': ...</td>\n",
       "      <td>1,820 sqft</td>\n",
       "      <td>45424</td>\n",
       "      <td>4 bd</td>\n",
       "      <td>OH</td>\n",
       "      <td>NaN</td>\n",
       "      <td>806638</td>\n",
       "      <td>NaN</td>\n",
       "      <td>NaN</td>\n",
       "    </tr>\n",
       "    <tr>\n",
       "      <th>1</th>\n",
       "      <td>For sale</td>\n",
       "      <td>NaN</td>\n",
       "      <td>Miscellaneous</td>\n",
       "      <td>121 Mustang</td>\n",
       "      <td>3.0</td>\n",
       "      <td>{'atAGlanceFacts': [{'factValue': '2015', 'fac...</td>\n",
       "      <td>NaN</td>\n",
       "      <td>Irvine</td>\n",
       "      <td>[{'rating': ['9/10', '9/10', '9/10'], 'data': ...</td>\n",
       "      <td>2,162</td>\n",
       "      <td>92602</td>\n",
       "      <td>4</td>\n",
       "      <td>CA</td>\n",
       "      <td>2</td>\n",
       "      <td>NaN</td>\n",
       "      <td>Yes</td>\n",
       "      <td>CV19257861</td>\n",
       "    </tr>\n",
       "    <tr>\n",
       "      <th>2</th>\n",
       "      <td>for sale</td>\n",
       "      <td>NaN</td>\n",
       "      <td>single-family home</td>\n",
       "      <td>5545 High Bank Rd</td>\n",
       "      <td>2.5 Baths</td>\n",
       "      <td>{'atAGlanceFacts': [{'factValue': '2017', 'fac...</td>\n",
       "      <td>NaN</td>\n",
       "      <td>Fort Worth</td>\n",
       "      <td>[{'rating': ['3/10', '8/10', '5/10'], 'data': ...</td>\n",
       "      <td>2,367 sqft</td>\n",
       "      <td>76126</td>\n",
       "      <td>3 Beds</td>\n",
       "      <td>TX</td>\n",
       "      <td>2.0</td>\n",
       "      <td>NaN</td>\n",
       "      <td>yes</td>\n",
       "      <td>NaN</td>\n",
       "    </tr>\n",
       "    <tr>\n",
       "      <th>3</th>\n",
       "      <td>for sale</td>\n",
       "      <td>NaN</td>\n",
       "      <td>single-family home</td>\n",
       "      <td>294 SW Ridgecrest Dr</td>\n",
       "      <td>3 Baths</td>\n",
       "      <td>{'atAGlanceFacts': [{'factValue': '2014', 'fac...</td>\n",
       "      <td>NaN</td>\n",
       "      <td>Port Saint Lucie</td>\n",
       "      <td>[{'rating': ['8/10', '5/10', '4/10', '3/10', '...</td>\n",
       "      <td>2,270 sqft</td>\n",
       "      <td>34953</td>\n",
       "      <td>3 Beds</td>\n",
       "      <td>FL</td>\n",
       "      <td>1.0</td>\n",
       "      <td>NaN</td>\n",
       "      <td>NaN</td>\n",
       "      <td>RX-10573870</td>\n",
       "    </tr>\n",
       "    <tr>\n",
       "      <th>4</th>\n",
       "      <td>Active</td>\n",
       "      <td>NaN</td>\n",
       "      <td>Single Family Home</td>\n",
       "      <td>2782 Bookmark Dr</td>\n",
       "      <td>5</td>\n",
       "      <td>{'atAGlanceFacts': [{'factValue': '2019', 'fac...</td>\n",
       "      <td>NaN</td>\n",
       "      <td>Kissimmee</td>\n",
       "      <td>[{'rating': [], 'data': {'Distance': [], 'Grad...</td>\n",
       "      <td>3014</td>\n",
       "      <td>34746</td>\n",
       "      <td>5</td>\n",
       "      <td>FL</td>\n",
       "      <td>2</td>\n",
       "      <td>NaN</td>\n",
       "      <td>NaN</td>\n",
       "      <td>T3210031</td>\n",
       "    </tr>\n",
       "  </tbody>\n",
       "</table>\n",
       "</div>"
      ],
      "text/plain": [
       "     status private pool        propertyType                street      baths  \\\n",
       "0  For sale          NaN       Single Family    6232 Wellington Pl       3 ba   \n",
       "1  For sale          NaN       Miscellaneous           121 Mustang        3.0   \n",
       "2  for sale          NaN  single-family home     5545 High Bank Rd  2.5 Baths   \n",
       "3  for sale          NaN  single-family home  294 SW Ridgecrest Dr    3 Baths   \n",
       "4    Active          NaN  Single Family Home      2782 Bookmark Dr          5   \n",
       "\n",
       "                                           homeFacts fireplace  \\\n",
       "0  {'atAGlanceFacts': [{'factValue': '1994', 'fac...       NaN   \n",
       "1  {'atAGlanceFacts': [{'factValue': '2015', 'fac...       NaN   \n",
       "2  {'atAGlanceFacts': [{'factValue': '2017', 'fac...       NaN   \n",
       "3  {'atAGlanceFacts': [{'factValue': '2014', 'fac...       NaN   \n",
       "4  {'atAGlanceFacts': [{'factValue': '2019', 'fac...       NaN   \n",
       "\n",
       "               city                                            schools  \\\n",
       "0            Dayton  [{'rating': ['4/10', '4/10', '3/10'], 'data': ...   \n",
       "1            Irvine  [{'rating': ['9/10', '9/10', '9/10'], 'data': ...   \n",
       "2        Fort Worth  [{'rating': ['3/10', '8/10', '5/10'], 'data': ...   \n",
       "3  Port Saint Lucie  [{'rating': ['8/10', '5/10', '4/10', '3/10', '...   \n",
       "4         Kissimmee  [{'rating': [], 'data': {'Distance': [], 'Grad...   \n",
       "\n",
       "         sqft zipcode    beds state stories  mls-id PrivatePool        MlsId  \n",
       "0  1,820 sqft   45424    4 bd    OH     NaN  806638         NaN          NaN  \n",
       "1       2,162   92602       4    CA       2     NaN         Yes   CV19257861  \n",
       "2  2,367 sqft   76126  3 Beds    TX     2.0     NaN         yes          NaN  \n",
       "3  2,270 sqft   34953  3 Beds    FL     1.0     NaN         NaN  RX-10573870  \n",
       "4        3014   34746       5    FL       2     NaN         NaN     T3210031  "
      ]
     },
     "execution_count": 17,
     "metadata": {},
     "output_type": "execute_result"
    }
   ],
   "source": [
    "df_valid = pd.read_csv('data/data_valid.csv', dtype={\"zipcode\":str})\n",
    "df_valid.head()"
   ]
  },
  {
   "cell_type": "code",
   "execution_count": 18,
   "metadata": {},
   "outputs": [],
   "source": [
    "target = pd.read_csv('data/data_valid_target.csv')"
   ]
  },
  {
   "cell_type": "code",
   "execution_count": 19,
   "metadata": {},
   "outputs": [],
   "source": [
    "df = data_transform.clear_data_base_line(\n",
    "    df_valid, \n",
    "    '../shared_libs/data/default_values.pkl', \n",
    "    can_drop_rows=False, \n",
    "    force_rebuild_cached_data=False\n",
    ")"
   ]
  },
  {
   "cell_type": "code",
   "execution_count": 20,
   "metadata": {},
   "outputs": [],
   "source": [
    "cities_dict = data_transform.get_cities_dict('../shared_libs/data/cities_dict.pkl', force_read=True)\n",
    "address_dict = data_transform.get_addresses_dict('../shared_libs/data/address_dict.pkl', force_read=True)\n",
    "address_by_zip_dict = data_transform.get_address_by_zipcode_dict('../shared_libs/data/address_by_zip_dict.pkl', force_read=True)\n",
    "cities_clusters_dict = data_transform.get_citiess_clusters_dict('../shared_libs/data/cities_clusters_dict.pkl', force_read=True)"
   ]
  },
  {
   "cell_type": "code",
   "execution_count": 21,
   "metadata": {},
   "outputs": [],
   "source": [
    "df = data_transform.fix_incorrect_states_and_cities(\n",
    "    df, \n",
    "    '../shared_libs/data/default_values.pkl', \n",
    "    cities_dict, \n",
    "    can_drop_rows=False\n",
    ")"
   ]
  },
  {
   "cell_type": "code",
   "execution_count": 22,
   "metadata": {},
   "outputs": [],
   "source": [
    "df = data_transform.add_city_features(\n",
    "    df,\n",
    "    '../shared_libs/data/default_values.pkl', \n",
    "    cities_dict, \n",
    "    address_dict,\n",
    "    address_by_zip_dict,\n",
    "    cities_clusters_dict,\n",
    "    force_rebuild_cached_data=False\n",
    ")"
   ]
  },
  {
   "cell_type": "code",
   "execution_count": 23,
   "metadata": {},
   "outputs": [],
   "source": [
    "df = data_transform.add_population_features(\n",
    "    df, \n",
    "    '../shared_libs/data/default_values.pkl', \n",
    "    '../shared_libs/data/uscities.csv', \n",
    "    can_drop_rows=False,\n",
    "    force_rebuild_cached_data=False\n",
    ")"
   ]
  },
  {
   "cell_type": "code",
   "execution_count": 24,
   "metadata": {},
   "outputs": [],
   "source": [
    "df = data_transform.encode_state_and_city(\n",
    "    df, \n",
    "    '../shared_libs/data/default_values.pkl', \n",
    "    can_drop_rows=False, \n",
    "    force_rebuild_cached_data=False\n",
    ")"
   ]
  },
  {
   "cell_type": "code",
   "execution_count": 25,
   "metadata": {},
   "outputs": [],
   "source": [
    "df = data_transform.final_tune_pca_and_scale(\n",
    "    df, \n",
    "    '../shared_libs/data/default_values.pkl', \n",
    "    force_rebuild_cached_data=False\n",
    ")"
   ]
  },
  {
   "cell_type": "code",
   "execution_count": 26,
   "metadata": {},
   "outputs": [],
   "source": [
    "#####################################################################################################################\n",
    "#####################################################################################################################\n",
    "#####################################################################################################################\n",
    "#####################################################################################################################"
   ]
  },
  {
   "cell_type": "code",
   "execution_count": 27,
   "metadata": {},
   "outputs": [],
   "source": [
    "y = target['target']\n",
    "X = df"
   ]
  },
  {
   "cell_type": "code",
   "execution_count": 28,
   "metadata": {},
   "outputs": [
    {
     "name": "stdout",
     "output_type": "stream",
     "text": [
      "MAPE: 29.371809225027334\n",
      "RMSE: 301300.2473079713\n"
     ]
    }
   ],
   "source": [
    "with open('../shared_libs/data/models/model_abr.pkl', 'rb') as f:\n",
    "    model = pickle.load(f)\n",
    "\n",
    "y_pred = model.predict(X)\n",
    "\n",
    "print('MAPE:', mean_absolute_percentage_error(y, y_pred)*100)\n",
    "print('RMSE:', mean_squared_error(y, y_pred)**0.5)\n",
    "\n",
    "#MAPE: 29.371809225027334\n",
    "#RMSE: 301300.2473079713"
   ]
  }
 ],
 "metadata": {
  "kernelspec": {
   "display_name": "Python 3",
   "language": "python",
   "name": "python3"
  },
  "language_info": {
   "codemirror_mode": {
    "name": "ipython",
    "version": 3
   },
   "file_extension": ".py",
   "mimetype": "text/x-python",
   "name": "python",
   "nbconvert_exporter": "python",
   "pygments_lexer": "ipython3",
   "version": "3.10.8"
  },
  "orig_nbformat": 4,
  "vscode": {
   "interpreter": {
    "hash": "95c87cf760e8e1f4f30ebfd2cb5d75dd1b69d1e869feb64cd48472c2633c7080"
   }
  }
 },
 "nbformat": 4,
 "nbformat_minor": 2
}
